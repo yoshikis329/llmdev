{
 "cells": [
  {
   "cell_type": "code",
   "execution_count": 1,
   "id": "cfb17c1f",
   "metadata": {},
   "outputs": [],
   "source": [
    "# 必要なモジュールをインポート\n",
    "import os\n",
    "from dotenv import load_dotenv\n",
    "from llama_index.core import VectorStoreIndex, SimpleDirectoryReader\n",
    "from llama_index.llms.openai import OpenAI\n",
    "\n",
    "# 環境変数の取得\n",
    "load_dotenv(\"../.env\")\n",
    "os.environ[\"OPENAI_API_KEY\"] = os.getenv(\"API_KEY\")\n",
    "\n",
    "# モデル名\n",
    "MODEL_NAME = \"gpt-4o-mini\""
   ]
  },
  {
   "cell_type": "code",
   "execution_count": 2,
   "id": "e6875579",
   "metadata": {},
   "outputs": [],
   "source": [
    "# PDFドキュメントの読込\n",
    "documents = SimpleDirectoryReader(\"./data/pdf\").load_data()"
   ]
  },
  {
   "cell_type": "code",
   "execution_count": null,
   "id": "1194fcbb",
   "metadata": {},
   "outputs": [
    {
     "name": "stderr",
     "output_type": "stream",
     "text": [
      "Retrying llama_index.embeddings.openai.base.OpenAIEmbedding._get_text_embeddings.<locals>._retryable_get_embeddings in 1.0 seconds as it raised RateLimitError: Error code: 429 - {'error': {'message': 'You exceeded your current quota, please check your plan and billing details. For more information on this error, read the docs: https://platform.openai.com/docs/guides/error-codes/api-errors.', 'type': 'insufficient_quota', 'param': None, 'code': 'insufficient_quota'}}.\n"
     ]
    }
   ],
   "source": [
    "from llama_index.core.text_splitter import SentenceSplitter\n",
    "from llama_index.core import Settings\n",
    "import tiktoken\n",
    "\n",
    "# NodeParserの作成\n",
    "node_parser = SentenceSplitter(\n",
    "    separator=\"。\",\n",
    "    chunk_size=256,\n",
    "    chunk_overlap=16,\n",
    "    tokenizer=tiktoken.encoding_for_model(MODEL_NAME).encode)\n",
    "\n",
    "# 言語モデルの指定\n",
    "llm = OpenAI(model=MODEL_NAME, temperature=0.3)\n",
    "\n",
    "# 設定に反映\n",
    "Settings.llm = llm\n",
    "Settings.node_parser = node_parser\n",
    "\n",
    "# Indexの構築\n",
    "index = VectorStoreIndex.from_documents(documents)"
   ]
  },
  {
   "cell_type": "code",
   "execution_count": null,
   "id": "8b1a0666",
   "metadata": {},
   "outputs": [],
   "source": [
    "# ストレージに保存\n",
    "index.storage_context.persist(\"./storage01\")"
   ]
  },
  {
   "cell_type": "code",
   "execution_count": null,
   "id": "d72c969e",
   "metadata": {},
   "outputs": [],
   "source": [
    "from llama_index.core import StorageContext, load_index_from_storage\n",
    "\n",
    "# ストレージコンテキストの作成\n",
    "storage_context = StorageContext.from_defaults(persist_dir=\"./storage01\")\n",
    "# Indexのロード\n",
    "index = load_index_from_storage(storage_context)"
   ]
  },
  {
   "cell_type": "code",
   "execution_count": null,
   "id": "0ac9b264",
   "metadata": {},
   "outputs": [],
   "source": [
    "sys_prompt_str = \"\"\"\n",
    "事前知識ではなく、常に提供されたコンテキスト情報を使用して質問に回答してください。\n",
    "回答内でコンテキストを直接参照しないでください。\n",
    "「コンテキストに基づいて」や「コンテキスト情報は」、またはそれに類するような記述は避けてください。\n",
    "\"\"\"\n",
    "\n",
    "qa_prompt_str = \"\"\"\n",
    "コンテキスト情報は以下の通りです。\n",
    "---------------------\n",
    "{context_str}\n",
    "---------------------\n",
    "事前知識ではなくコンテキスト情報を使用して、質問に回答してください。\n",
    "質問: {query_str}\n",
    "回答:\"\"\"\n",
    "\n",
    "refine_prompt_str = \"\"\"\n",
    "元の回答を（必要な場合のみ）以下のコンテキストで改良する機会があります。\n",
    "---------------------\n",
    "{context_msg}\n",
    "---------------------\n",
    "新しいコンテキストが与えられた場合、元の回答を改良して、質問{query_str}に適切に回答します。\n",
    "コンテキストが役に立たない場合は、元の回答を再度出力します。\n",
    "元の回答: {existing_answer}\"\"\""
   ]
  },
  {
   "cell_type": "code",
   "execution_count": null,
   "id": "a97f7934",
   "metadata": {},
   "outputs": [],
   "source": [
    "from llama_index.core.llms import ChatMessage, MessageRole\n",
    "from llama_index.core import ChatPromptTemplate\n",
    "\n",
    "# テキストQAテンプレートの作成\n",
    "chat_text_qa_msgs = [\n",
    "    ChatMessage(role=MessageRole.SYSTEM, content=sys_prompt_str),\n",
    "    ChatMessage(role=MessageRole.USER, content=qa_prompt_str),\n",
    "]\n",
    "text_qa_template = ChatPromptTemplate(chat_text_qa_msgs)\n",
    "\n",
    "# リファインテンプレートの作成\n",
    "chat_refine_msgs = [\n",
    "    ChatMessage(role=MessageRole.SYSTEM, content=sys_prompt_str),\n",
    "    ChatMessage(role=MessageRole.USER, content=refine_prompt_str),\n",
    "]\n",
    "refine_template = ChatPromptTemplate(chat_refine_msgs)"
   ]
  },
  {
   "cell_type": "code",
   "execution_count": null,
   "id": "df82cae2",
   "metadata": {},
   "outputs": [],
   "source": [
    "# Chat Engineの作成\n",
    "chat_engine = index.as_chat_engine(\n",
    "    chat_mode=\"openai\",\n",
    "    llm=llm,\n",
    "    similarity_top_k=3,\n",
    "    text_qa_template=text_qa_template,\n",
    "    refine_template=refine_template\n",
    ")"
   ]
  },
  {
   "cell_type": "code",
   "execution_count": null,
   "id": "08ffa7d7",
   "metadata": {},
   "outputs": [],
   "source": [
    "# 質問：1回目\n",
    "response = chat_engine.chat(\"公共交通機関の交通費の上限は？\")\n",
    "for token in response.response_gen:\n",
    "    print(token, end=\"\")"
   ]
  },
  {
   "cell_type": "code",
   "execution_count": null,
   "id": "8cf81361",
   "metadata": {},
   "outputs": [],
   "source": [
    "# 引用元を表示\n",
    "for source in response.sources:\n",
    "    for source_node in source.raw_output.source_nodes:\n",
    "        print(\"ファイル名：\", source_node.metadata[\"file_name\"])\n",
    "        print(\"関連度スコア:\", source_node.score)\n",
    "        print(\"テキスト：\")\n",
    "        print(source_node.node.text)\n",
    "        print(\"-\" * 50)  # 区切り線"
   ]
  },
  {
   "cell_type": "code",
   "execution_count": null,
   "id": "e2178aa9",
   "metadata": {},
   "outputs": [],
   "source": [
    "# 質問：2回目\n",
    "response = chat_engine.stream_chat(\"交通費以外の手当にはどのようなものがありますか？\")\n",
    "\n",
    "for token in response.response_gen:\n",
    "    print(token, end=\"\")"
   ]
  },
  {
   "cell_type": "code",
   "execution_count": null,
   "id": "74e70637",
   "metadata": {},
   "outputs": [],
   "source": [
    "# 引用元を表示\n",
    "for source in response.sources:\n",
    "    for source_node in source.raw_output.source_nodes:\n",
    "        print(\"ファイル名：\", source_node.metadata[\"file_name\"])\n",
    "        print(\"関連度スコア:\", source_node.score)\n",
    "        print(\"テキスト：\")\n",
    "        print(source_node.node.text)\n",
    "        print(\"-\" * 50)  # 区切り線"
   ]
  }
 ],
 "metadata": {
  "kernelspec": {
   "display_name": ".venv",
   "language": "python",
   "name": "python3"
  },
  "language_info": {
   "codemirror_mode": {
    "name": "ipython",
    "version": 3
   },
   "file_extension": ".py",
   "mimetype": "text/x-python",
   "name": "python",
   "nbconvert_exporter": "python",
   "pygments_lexer": "ipython3",
   "version": "3.13.3"
  }
 },
 "nbformat": 4,
 "nbformat_minor": 5
}
