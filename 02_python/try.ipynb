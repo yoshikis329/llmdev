{
 "cells": [
  {
   "cell_type": "code",
   "execution_count": 2,
   "id": "a55dff79",
   "metadata": {},
   "outputs": [
    {
     "name": "stdout",
     "output_type": "stream",
     "text": [
      "エラー: 整数を入力してください\n"
     ]
    }
   ],
   "source": [
    "try:\n",
    "    # 例外が発生するかもしれない処理\n",
    "    num = int(input(\"整数を入力してください: \"))\n",
    "    result = 100 / num\n",
    "    print(f\"100を{num}で割った結果は{result}です\")\n",
    "except ZeroDivisionError:\n",
    "    # 例外が発生した場合の処理\n",
    "    print(\"エラー: 0 で割ることはできません\")\n",
    "except ValueError:\n",
    "    print(\"エラー: 整数を入力してください\")"
   ]
  },
  {
   "cell_type": "code",
   "execution_count": 3,
   "id": "c6c1028d",
   "metadata": {},
   "outputs": [
    {
     "name": "stdout",
     "output_type": "stream",
     "text": [
      "エラー: 整数を入力してください\n"
     ]
    }
   ],
   "source": [
    "try:\n",
    "    # 例外が発生するかもしれない処理\n",
    "    num = int(input(\"整数を入力してください: \"))\n",
    "    result = 100 / num\n",
    "    print(f\"100を{num}で割った結果は{result}です\")\n",
    "except ZeroDivisionError:\n",
    "    # 例外が発生した場合の処理\n",
    "    print(\"エラー: 0 で割ることはできません\")\n",
    "except ValueError:\n",
    "    print(\"エラー: 整数を入力してください\")\n",
    "except Exception as e:\n",
    "    # 予期しない例外をキャッチ\n",
    "    print(f\"予期しないエラーが発生しました: {e}\")"
   ]
  },
  {
   "cell_type": "code",
   "execution_count": 4,
   "id": "2c39af20",
   "metadata": {},
   "outputs": [
    {
     "name": "stdout",
     "output_type": "stream",
     "text": [
      "0 で割り算しようとしています\n"
     ]
    }
   ],
   "source": [
    "a = 100\n",
    "b = 0\n",
    "\n",
    "try:\n",
    "    # 割り算を行う前にチェック\n",
    "    if b == 0:\n",
    "        raise ZeroDivisionError(\"0 で割り算しようとしています\")\n",
    "\n",
    "    # 安全な場合のみ割り算を行う\n",
    "    print(a / b)\n",
    "except ZeroDivisionError as e:\n",
    "    print(e)\n"
   ]
  },
  {
   "cell_type": "code",
   "execution_count": 7,
   "id": "3cdb46e2",
   "metadata": {},
   "outputs": [
    {
     "name": "stdout",
     "output_type": "stream",
     "text": [
      "計算結果: 20.0\n",
      "プログラム終了\n"
     ]
    }
   ],
   "source": [
    "try:\n",
    "    num = int(input(\"整数を入力してください: \"))\n",
    "    result = 100 / num\n",
    "except ZeroDivisionError:\n",
    "    print(\"エラー: 0 で割ることはできません\")\n",
    "except ValueError:\n",
    "    print(\"エラー: 整数を入力してください\")\n",
    "else:\n",
    "    print(f\"計算結果: {result}\")\n",
    "finally:\n",
    "    print(\"プログラム終了\")"
   ]
  }
 ],
 "metadata": {
  "kernelspec": {
   "display_name": ".venv",
   "language": "python",
   "name": "python3"
  },
  "language_info": {
   "codemirror_mode": {
    "name": "ipython",
    "version": 3
   },
   "file_extension": ".py",
   "mimetype": "text/x-python",
   "name": "python",
   "nbconvert_exporter": "python",
   "pygments_lexer": "ipython3",
   "version": "3.13.3"
  }
 },
 "nbformat": 4,
 "nbformat_minor": 5
}
