{
 "cells": [
  {
   "cell_type": "code",
   "execution_count": 6,
   "id": "bb7e3b18",
   "metadata": {},
   "outputs": [
    {
     "name": "stdout",
     "output_type": "stream",
     "text": [
      "送料は350円です\n",
      "送料込税込価格は2000円です\n"
     ]
    }
   ],
   "source": [
    "price = int(input(\"料金を入力してください\"))\n",
    "price *= 1.1\n",
    "if price < 2000:\n",
    "    print(\"送料は350円です\")\n",
    "    price += 350\n",
    "else:\n",
    "    print(\"送料は無料です\")\n",
    "\n",
    "print(f\"送料込税込価格は{int(price)}円です\")"
   ]
  }
 ],
 "metadata": {
  "kernelspec": {
   "display_name": ".venv",
   "language": "python",
   "name": "python3"
  },
  "language_info": {
   "codemirror_mode": {
    "name": "ipython",
    "version": 3
   },
   "file_extension": ".py",
   "mimetype": "text/x-python",
   "name": "python",
   "nbconvert_exporter": "python",
   "pygments_lexer": "ipython3",
   "version": "3.13.3"
  }
 },
 "nbformat": 4,
 "nbformat_minor": 5
}
