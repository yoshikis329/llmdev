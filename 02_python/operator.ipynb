{
 "cells": [
  {
   "cell_type": "code",
   "execution_count": 3,
   "id": "ccac1d49",
   "metadata": {},
   "outputs": [
    {
     "name": "stdout",
     "output_type": "stream",
     "text": [
      "加算:  13\n",
      "減算:  7\n",
      "乗算:  30\n",
      "除算:  3.3333333333333335\n",
      "整数除算:  3\n",
      "余り:  1\n",
      "累乗:  1000\n"
     ]
    }
   ],
   "source": [
    "# 算術演算子の例\n",
    "a = 10\n",
    "b = 3\n",
    "\n",
    "sum_result = a + b\n",
    "diff_result = a - b\n",
    "product_result = a * b\n",
    "quotient_result = a / b # 割り算（結果は浮動小数点）\n",
    "int_quotient_result = a // b # 整数除算（商）\n",
    "remainder_result = a % b\n",
    "power_result = a ** b # 累乗\n",
    "\n",
    "print(\"加算: \", sum_result)   # 13\n",
    "print(\"減算: \", diff_result)  # 7\n",
    "print(\"乗算: \", product_result)  # 30\n",
    "print(\"除算: \", quotient_result)   # 3.333...\n",
    "print(\"整数除算: \", int_quotient_result) # 3\n",
    "print(\"余り: \", remainder_result) # 1\n",
    "print(\"累乗: \", power_result) # 1000"
   ]
  },
  {
   "cell_type": "code",
   "execution_count": 4,
   "id": "871a4ac6",
   "metadata": {},
   "outputs": [
    {
     "ename": "ZeroDivisionError",
     "evalue": "division by zero",
     "output_type": "error",
     "traceback": [
      "\u001b[31m---------------------------------------------------------------------------\u001b[39m",
      "\u001b[31mZeroDivisionError\u001b[39m                         Traceback (most recent call last)",
      "\u001b[36mCell\u001b[39m\u001b[36m \u001b[39m\u001b[32mIn[4]\u001b[39m\u001b[32m, line 4\u001b[39m\n\u001b[32m      2\u001b[39m a = \u001b[32m10\u001b[39m\n\u001b[32m      3\u001b[39m b = \u001b[32m0\u001b[39m\n\u001b[32m----> \u001b[39m\u001b[32m4\u001b[39m quotient_result = \u001b[43ma\u001b[49m\u001b[43m \u001b[49m\u001b[43m/\u001b[49m\u001b[43m \u001b[49m\u001b[43mb\u001b[49m \u001b[38;5;66;03m# 割り算（エラーとなる）\u001b[39;00m\n",
      "\u001b[31mZeroDivisionError\u001b[39m: division by zero"
     ]
    }
   ],
   "source": [
    "# ゼロ除算エラーの例\n",
    "a = 10\n",
    "b = 0\n",
    "quotient_result = a / b # 割り算（エラーとなる）"
   ]
  },
  {
   "cell_type": "code",
   "execution_count": 1,
   "id": "328f97e5",
   "metadata": {},
   "outputs": [
    {
     "name": "stdout",
     "output_type": "stream",
     "text": [
      "x += 5:  15\n",
      "x -= 3:  12\n",
      "x *= 2:  24\n",
      "x /= 4:  6.0\n",
      "x //= 5:  1.0\n",
      "x %= 3:  1.0\n",
      "x **= 3:  1.0\n"
     ]
    }
   ],
   "source": [
    "x = 10\n",
    "x += 5 # x = x + 5\n",
    "print(\"x += 5: \", x) # 15\n",
    "\n",
    "x -= 3 # x = x - 3\n",
    "print(\"x -= 3: \", x) # 12\n",
    "\n",
    "x *= 2 # x = x * 2\n",
    "print(\"x *= 2: \", x) # 24\n",
    "\n",
    "x /= 4 # x = x / 4\n",
    "print(\"x /= 4: \", x) # 6.0\n",
    "\n",
    "x //= 5 # x = x // 5\n",
    "print(\"x //= 5: \", x) # 1.0\n",
    "\n",
    "x %= 3 # x = x % 3\n",
    "print(\"x %= 3: \", x) # 1.0\n",
    "\n",
    "x **= 3 # x = x ** 3\n",
    "print(\"x **= 3: \", x) # 1.0"
   ]
  },
  {
   "cell_type": "code",
   "execution_count": 2,
   "id": "6898c39c",
   "metadata": {},
   "outputs": [
    {
     "name": "stdout",
     "output_type": "stream",
     "text": [
      "a > b:  True\n",
      "a < b:  False\n",
      "a >= b:  True\n",
      "a <= b:  False\n",
      "a == b:  False\n",
      "a != b:  True\n"
     ]
    }
   ],
   "source": [
    "# 比較演算子の例\n",
    "a = 10\n",
    "b = 5\n",
    "\n",
    "print(\"a > b: \", a > b)   # True\n",
    "print(\"a < b: \", a < b)   # False\n",
    "print(\"a >= b: \", a >= b) # True\n",
    "print(\"a <= b: \", a <= b) # False\n",
    "print(\"a == b: \", a == b) # False\n",
    "print(\"a != b: \", a != b) # True"
   ]
  },
  {
   "cell_type": "code",
   "execution_count": 3,
   "id": "9002a63d",
   "metadata": {},
   "outputs": [
    {
     "name": "stdout",
     "output_type": "stream",
     "text": [
      "100 < x < 200:  True\n",
      "100 < y < 200:  False\n"
     ]
    }
   ],
   "source": [
    "# 連続比較の例\n",
    "x = 150\n",
    "print(\"100 < x < 200: \", 100 < x < 200) # True\n",
    "\n",
    "y = 50\n",
    "print(\"100 < y < 200: \", 100 < y < 200) # False"
   ]
  },
  {
   "cell_type": "code",
   "execution_count": 4,
   "id": "c5c3f1d3",
   "metadata": {},
   "outputs": [
    {
     "name": "stdout",
     "output_type": "stream",
     "text": [
      "10 < x and x < 20:  True\n",
      "x < 10 or x > 20:  False\n",
      "not (x ==15):  False\n"
     ]
    }
   ],
   "source": [
    "# 論理演算子の例\n",
    "x = 15\n",
    "print(\"10 < x and x < 20: \", 10 < x and x < 20) # True\n",
    "print(\"x < 10 or x > 20: \", x < 10 or x > 20)   # False\n",
    "print(\"not (x ==15): \", not (x == 15))          # False"
   ]
  },
  {
   "cell_type": "code",
   "execution_count": 7,
   "id": "9c49ab51",
   "metadata": {},
   "outputs": [
    {
     "name": "stdout",
     "output_type": "stream",
     "text": [
      "a & b:  0b1000\n",
      "a | b:  0b1110\n",
      "a ^ b:  0b110\n",
      "a << 1:  0b11000\n",
      "a >> 1:  0b110\n"
     ]
    }
   ],
   "source": [
    "# ビット演算子の例\n",
    "a = 0b1100 # 12\n",
    "b = 0b1010 # 10\n",
    "\n",
    "print(\"a & b: \", bin(a & b))   # 0b1000\n",
    "print(\"a | b: \", bin(a | b))   # 0b1110\n",
    "print(\"a ^ b: \", bin(a ^ b))   # 0b0110\n",
    "print(\"a << 1: \", bin(a << 1)) # 0b11000\n",
    "print(\"a >> 1: \", bin(a >> 1)) # 0b0110"
   ]
  }
 ],
 "metadata": {
  "kernelspec": {
   "display_name": ".venv",
   "language": "python",
   "name": "python3"
  },
  "language_info": {
   "codemirror_mode": {
    "name": "ipython",
    "version": 3
   },
   "file_extension": ".py",
   "mimetype": "text/x-python",
   "name": "python",
   "nbconvert_exporter": "python",
   "pygments_lexer": "ipython3",
   "version": "3.13.3"
  }
 },
 "nbformat": 4,
 "nbformat_minor": 5
}
