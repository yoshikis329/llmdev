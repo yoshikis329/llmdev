{
 "cells": [
  {
   "cell_type": "code",
   "execution_count": 4,
   "id": "34e22f0b",
   "metadata": {},
   "outputs": [
    {
     "ename": "ValueError",
     "evalue": "invalid literal for int() with base 10: '59.9'",
     "output_type": "error",
     "traceback": [
      "\u001b[31m---------------------------------------------------------------------------\u001b[39m",
      "\u001b[31mValueError\u001b[39m                                Traceback (most recent call last)",
      "\u001b[36mCell\u001b[39m\u001b[36m \u001b[39m\u001b[32mIn[4]\u001b[39m\u001b[32m, line 1\u001b[39m\n\u001b[32m----> \u001b[39m\u001b[32m1\u001b[39m score = \u001b[38;5;28;43mint\u001b[39;49m\u001b[43m(\u001b[49m\u001b[38;5;28;43minput\u001b[39;49m\u001b[43m(\u001b[49m\u001b[33;43m\"\u001b[39;49m\u001b[33;43m点数を入力してください: \u001b[39;49m\u001b[33;43m\"\u001b[39;49m\u001b[43m)\u001b[49m\u001b[43m)\u001b[49m\n\u001b[32m      3\u001b[39m \u001b[38;5;28;01mif\u001b[39;00m score >= \u001b[32m60\u001b[39m:\n\u001b[32m      4\u001b[39m     \u001b[38;5;28mprint\u001b[39m(\u001b[33m\"\u001b[39m\u001b[33m合格です\u001b[39m\u001b[33m\"\u001b[39m)\n",
      "\u001b[31mValueError\u001b[39m: invalid literal for int() with base 10: '59.9'"
     ]
    }
   ],
   "source": [
    "score = int(input(\"点数を入力してください: \"))\n",
    "\n",
    "if score >= 60:\n",
    "    print(\"合格です\")\n",
    "\n",
    "print(\"処理を終了します\")"
   ]
  },
  {
   "cell_type": "code",
   "execution_count": 7,
   "id": "1fa371ee",
   "metadata": {},
   "outputs": [
    {
     "name": "stdout",
     "output_type": "stream",
     "text": [
      "合格です\n",
      "おめでとうございます！\n",
      "処理を終了します\n"
     ]
    }
   ],
   "source": [
    "score = int(input(\"点数を入力してください: \"))\n",
    "\n",
    "if score >= 60:\n",
    "    print(\"合格です\")\n",
    "    print(\"おめでとうございます！\")\n",
    "else:\n",
    "    print(\"不合格です\")\n",
    "    print(\"もっとがんばりましょう\")\n",
    "\n",
    "print(\"処理を終了します\")"
   ]
  },
  {
   "cell_type": "code",
   "execution_count": 10,
   "id": "67ae2102",
   "metadata": {},
   "outputs": [
    {
     "name": "stdout",
     "output_type": "stream",
     "text": [
      "不合格です\n",
      "もっとがんばりましょう\n",
      "処理を終了します\n"
     ]
    }
   ],
   "source": [
    "score = int(input(\"点数を入力してください: \"))\n",
    "\n",
    "if score >= 90:\n",
    "    print(\"優秀です\")\n",
    "    print(\"大変よくできました！！\")\n",
    "\n",
    "elif score >= 60:\n",
    "    print(\"合格です\")\n",
    "    print(\"おめでとうございます！\")\n",
    "\n",
    "else:\n",
    "    print(\"不合格です\")\n",
    "    print(\"もっとがんばりましょう\")\n",
    "\n",
    "print(\"処理を終了します\")"
   ]
  }
 ],
 "metadata": {
  "kernelspec": {
   "display_name": ".venv",
   "language": "python",
   "name": "python3"
  },
  "language_info": {
   "codemirror_mode": {
    "name": "ipython",
    "version": 3
   },
   "file_extension": ".py",
   "mimetype": "text/x-python",
   "name": "python",
   "nbconvert_exporter": "python",
   "pygments_lexer": "ipython3",
   "version": "3.13.3"
  }
 },
 "nbformat": 4,
 "nbformat_minor": 5
}
