{
 "cells": [
  {
   "cell_type": "code",
   "execution_count": 1,
   "id": "d249b7b4",
   "metadata": {},
   "outputs": [],
   "source": [
    "name = \"山田太郎\"\n",
    "age = 25"
   ]
  },
  {
   "cell_type": "code",
   "execution_count": 2,
   "id": "90805720",
   "metadata": {},
   "outputs": [
    {
     "name": "stdout",
     "output_type": "stream",
     "text": [
      "はじめまして、 山田太郎 と申します。\n",
      "年齢は 25 歳です。来年は 26 歳になります。\n",
      "よろしくお願いします。\n"
     ]
    }
   ],
   "source": [
    "print(\"はじめまして、\",name,\"と申します。\")\n",
    "print(\"年齢は\",age,\"歳です。来年は\",age + 1,\"歳になります。\")\n",
    "print(\"よろしくお願いします。\")"
   ]
  }
 ],
 "metadata": {
  "kernelspec": {
   "display_name": ".venv",
   "language": "python",
   "name": "python3"
  },
  "language_info": {
   "codemirror_mode": {
    "name": "ipython",
    "version": 3
   },
   "file_extension": ".py",
   "mimetype": "text/x-python",
   "name": "python",
   "nbconvert_exporter": "python",
   "pygments_lexer": "ipython3",
   "version": "3.13.3"
  }
 },
 "nbformat": 4,
 "nbformat_minor": 5
}
