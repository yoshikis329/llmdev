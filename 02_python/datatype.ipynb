{
 "cells": [
  {
   "cell_type": "code",
   "execution_count": 1,
   "id": "4ccfb9bf",
   "metadata": {},
   "outputs": [
    {
     "name": "stdout",
     "output_type": "stream",
     "text": [
      "a: 10\n",
      "b: -5\n",
      "c: 0\n",
      "合計: 5\n",
      "積: -50\n"
     ]
    }
   ],
   "source": [
    "# 整数の代入\n",
    "a = 10\n",
    "b = -5\n",
    "c = 0\n",
    "\n",
    "# 整数同士の計算\n",
    "sum_result = a + b # 10 + (-5) = 5\n",
    "product_result = a * b # 10 * (-5) = -50\n",
    "\n",
    "print(\"a:\", a)\n",
    "print(\"b:\", b)\n",
    "print(\"c:\", c)\n",
    "print(\"合計:\", sum_result)\n",
    "print(\"積:\", product_result)"
   ]
  },
  {
   "cell_type": "code",
   "execution_count": 2,
   "id": "affbd996",
   "metadata": {},
   "outputs": [
    {
     "name": "stdout",
     "output_type": "stream",
     "text": [
      "除算結果: 3.3333333333333335\n",
      "整数除算結果: 3\n"
     ]
    }
   ],
   "source": [
    "# 除算の例\n",
    "division_result = a / 3 # 結果は 3.3333333333333335 (float型)\n",
    "integer_division_result = a // 3 # 結果は 3 (int型)\n",
    "\n",
    "print(\"除算結果:\", division_result)\n",
    "print(\"整数除算結果:\", integer_division_result)"
   ]
  },
  {
   "cell_type": "code",
   "execution_count": 4,
   "id": "38166177",
   "metadata": {},
   "outputs": [
    {
     "name": "stdout",
     "output_type": "stream",
     "text": [
      "x: 3.14\n",
      "y: -0.5\n",
      "z: 2.0\n",
      "合計: 2.64\n",
      "積: -1.57\n"
     ]
    }
   ],
   "source": [
    "# 浮動小数点数の代入\n",
    "x = 3.14\n",
    "y = -0.5\n",
    "z = 2.0 # 小数点を付けるとfloat型になる\n",
    "\n",
    "# 浮動小数点数の計算\n",
    "sum_result = x + y # 3.14 + (-0.5) = 2.64\n",
    "product_result = x * y # 3.14 * (-0.5) = -1.57\n",
    "\n",
    "print(\"x:\", x)\n",
    "print(\"y:\", y)\n",
    "print(\"z:\", z)\n",
    "print(\"合計:\", sum_result)\n",
    "print(\"積:\", product_result)"
   ]
  },
  {
   "cell_type": "code",
   "execution_count": 5,
   "id": "f8da85bb",
   "metadata": {},
   "outputs": [
    {
     "name": "stdout",
     "output_type": "stream",
     "text": [
      "0.1 + 0.2 の結果: 0.30000000000000004\n"
     ]
    }
   ],
   "source": [
    "# 浮動小数点数の誤差の例\n",
    "result = 0.1 + 0.2\n",
    "print(\"0.1 + 0.2 の結果:\", result)"
   ]
  },
  {
   "cell_type": "code",
   "execution_count": 6,
   "id": "15013277",
   "metadata": {},
   "outputs": [
    {
     "name": "stdout",
     "output_type": "stream",
     "text": [
      "a の型: <class 'int'>\n",
      "b の型: <class 'float'>\n"
     ]
    }
   ],
   "source": [
    "a = 10 # int型\n",
    "b = float(a) # float型に変換\n",
    "\n",
    "print(\"a の型:\", type(a))\n",
    "print(\"b の型:\", type(b))"
   ]
  },
  {
   "cell_type": "code",
   "execution_count": 7,
   "id": "b65729ed",
   "metadata": {},
   "outputs": [
    {
     "name": "stdout",
     "output_type": "stream",
     "text": [
      "x の型: <class 'float'>\n",
      "y の型: <class 'int'>\n",
      "y の値: 3\n"
     ]
    }
   ],
   "source": [
    "x = 3.99 # float型\n",
    "y = int(x) # int型に変換（小数部分は切り捨て）\n",
    "\n",
    "print(\"x の型:\", type(x))\n",
    "print(\"y の型:\", type(y))\n",
    "print(\"y の値:\", y)"
   ]
  },
  {
   "cell_type": "code",
   "execution_count": 8,
   "id": "93291c4a",
   "metadata": {},
   "outputs": [
    {
     "name": "stdout",
     "output_type": "stream",
     "text": [
      "12300.0\n"
     ]
    }
   ],
   "source": [
    "num = 1.23e4\n",
    "print(num) # 出力: 12300.0"
   ]
  },
  {
   "cell_type": "code",
   "execution_count": 9,
   "id": "34ede3d9",
   "metadata": {},
   "outputs": [
    {
     "name": "stdout",
     "output_type": "stream",
     "text": [
      "0.000123\n"
     ]
    }
   ],
   "source": [
    "num = 1.23e-4\n",
    "print(num) # 出力: 0.000123"
   ]
  },
  {
   "cell_type": "code",
   "execution_count": 10,
   "id": "a8b37cac",
   "metadata": {},
   "outputs": [
    {
     "name": "stdout",
     "output_type": "stream",
     "text": [
      "c1: (2+3j)\n",
      "c2: (-1+0.5j)\n",
      "合計: (1+3.5j)\n",
      "積: (-3.5-2j)\n"
     ]
    }
   ],
   "source": [
    "# 複素数の代入\n",
    "c1 = 2 + 3j\n",
    "c2 = -1 + 0.5j\n",
    "\n",
    "# 複素数の計算\n",
    "sum_result = c1 + c2 # (2 + (-1)) + (3j + 0.5j) = 1 + 3.5j\n",
    "product_result = c1 * c2 # 複素数の掛け算\n",
    "\n",
    "print(\"c1:\", c1)\n",
    "print(\"c2:\", c2)\n",
    "print(\"合計:\", sum_result)\n",
    "print(\"積:\", product_result)"
   ]
  },
  {
   "cell_type": "code",
   "execution_count": 11,
   "id": "4733d75a",
   "metadata": {},
   "outputs": [
    {
     "name": "stdout",
     "output_type": "stream",
     "text": [
      "「'」はシングルクォートです。\n",
      "「\"」はダブルクォートです。\n"
     ]
    }
   ],
   "source": [
    "text1 = \"「'」はシングルクォートです。\"\n",
    "text2 = '「\"」はダブルクォートです。'\n",
    "print(text1)\n",
    "print(text2)"
   ]
  },
  {
   "cell_type": "code",
   "execution_count": 12,
   "id": "bfb941b0",
   "metadata": {},
   "outputs": [
    {
     "name": "stdout",
     "output_type": "stream",
     "text": [
      "Hello World\n",
      "Hi! Hi! Hi! \n",
      "文字列の長さ: 13\n"
     ]
    }
   ],
   "source": [
    "text1 = \"Hello\"\n",
    "text2 = 'World'\n",
    "result = text1 + \" \" + text2\n",
    "print(result) # 'Hello World'\n",
    "\n",
    "# 文字列の繰り返し\n",
    "text = \"Hi! \"\n",
    "print(text * 3) # 'Hi! Hi! Hi! '\n",
    "\n",
    "# 文字列の長さを取得\n",
    "length = len(\"Hello, World!\") # 13\n",
    "print(\"文字列の長さ:\", length)"
   ]
  },
  {
   "cell_type": "code",
   "execution_count": 14,
   "id": "e704ba5d",
   "metadata": {},
   "outputs": [
    {
     "name": "stdout",
     "output_type": "stream",
     "text": [
      "PYTHON\n",
      "python\n",
      "Hello, Python\n",
      "Hello, World!\n",
      "7\n"
     ]
    }
   ],
   "source": [
    "# 大文字や小文字に変換\n",
    "text = \"Python\"\n",
    "print(text.upper()) # 'PYTHON'\n",
    "print(text.lower()) # 'python'\n",
    "\n",
    "# 部分文字列を置換\n",
    "text = \"Hello, World\"\n",
    "print(text.replace(\"World\", \"Python\")) # 'Hello, Python'\n",
    "\n",
    "# 前後の空白や指定した文字を削除\n",
    "text = \"   Hello, World!   \"\n",
    "print(text.strip()) # 'Hello, World!'\n",
    "\n",
    "# 部分文字列の最初の位置を検索\n",
    "text = \"Hello, World\"\n",
    "print(text.find(\"World\")) # 7"
   ]
  },
  {
   "cell_type": "code",
   "execution_count": 17,
   "id": "7f79b1b3",
   "metadata": {},
   "outputs": [
    {
     "name": "stdout",
     "output_type": "stream",
     "text": [
      "エスケープを使うと、「'」シングルクォートと「\"」ダブルクォートを混在させたり、\n",
      "改行や\tタブを入れたりと多彩な表現が可能です\n"
     ]
    }
   ],
   "source": [
    "print(\"エスケープを使うと、「\\'」シングルクォートと「\\\"」ダブルクォートを混在させたり、\\n改行や\\tタブを入れたりと多彩な表現が可能です\")"
   ]
  },
  {
   "cell_type": "code",
   "execution_count": 21,
   "id": "635a12a8",
   "metadata": {},
   "outputs": [
    {
     "name": "stdout",
     "output_type": "stream",
     "text": [
      "A様\n",
      "いつもお世話になっております。Bです。\n",
      "先日はお越しくださりありがとうございました。\n",
      "またのご来店をお待ちしております。\n"
     ]
    }
   ],
   "source": [
    "message = '''A様\n",
    "いつもお世話になっております。Bです。\n",
    "先日はお越しくださりありがとうございました。\n",
    "またのご来店をお待ちしております。'''\n",
    "\n",
    "print(message)"
   ]
  },
  {
   "cell_type": "code",
   "execution_count": 22,
   "id": "e7f2eff6",
   "metadata": {},
   "outputs": [
    {
     "ename": "TypeError",
     "evalue": "can't multiply sequence by non-int of type 'float'",
     "output_type": "error",
     "traceback": [
      "\u001b[31m---------------------------------------------------------------------------\u001b[39m",
      "\u001b[31mTypeError\u001b[39m                                 Traceback (most recent call last)",
      "\u001b[36mCell\u001b[39m\u001b[36m \u001b[39m\u001b[32mIn[22]\u001b[39m\u001b[32m, line 2\u001b[39m\n\u001b[32m      1\u001b[39m price = \u001b[33m\"\u001b[39m\u001b[33m100\u001b[39m\u001b[33m\"\u001b[39m\n\u001b[32m----> \u001b[39m\u001b[32m2\u001b[39m \u001b[38;5;28mprint\u001b[39m(\u001b[33m\"\u001b[39m\u001b[33m税込み価格は\u001b[39m\u001b[33m\"\u001b[39m, \u001b[43mprice\u001b[49m\u001b[43m \u001b[49m\u001b[43m*\u001b[49m\u001b[43m \u001b[49m\u001b[32;43m1.1\u001b[39;49m, \u001b[33m\"\u001b[39m\u001b[33m円です\u001b[39m\u001b[33m\"\u001b[39m)\n",
      "\u001b[31mTypeError\u001b[39m: can't multiply sequence by non-int of type 'float'"
     ]
    }
   ],
   "source": [
    "price = \"100\"\n",
    "print(\"税込み価格は\", price * 1.1, \"円です\")"
   ]
  },
  {
   "cell_type": "code",
   "execution_count": 23,
   "id": "11f81c77",
   "metadata": {},
   "outputs": [
    {
     "name": "stdout",
     "output_type": "stream",
     "text": [
      "num_str の型: <class 'str'>\n",
      "num_str の値: 100\n",
      "int_value の型: <class 'int'>\n",
      "int_value の値: 250\n"
     ]
    }
   ],
   "source": [
    "num = 100 # int型\n",
    "num_str = str(num) # 文字列型に変換\n",
    "\n",
    "print(\"num_str の型:\", type(num_str))\n",
    "print(\"num_str の値:\", num_str)\n",
    "\n",
    "# 文字列から数値へ\n",
    "str_value = \"250\"\n",
    "int_value = int(str_value)\n",
    "\n",
    "print(\"int_value の型:\", type(int_value))\n",
    "print(\"int_value の値:\", int_value)"
   ]
  },
  {
   "cell_type": "code",
   "execution_count": 2,
   "id": "dbcda5d3",
   "metadata": {},
   "outputs": [
    {
     "name": "stdout",
     "output_type": "stream",
     "text": [
      "こんにちは、太郎さん！\n"
     ]
    }
   ],
   "source": [
    "name = input(\"名前を入力してください: \")\n",
    "print(\"こんにちは、\" + name + \"さん！\")"
   ]
  },
  {
   "cell_type": "code",
   "execution_count": 3,
   "id": "2f164854",
   "metadata": {},
   "outputs": [
    {
     "name": "stdout",
     "output_type": "stream",
     "text": [
      "入力した数値に10を足すと: 15\n"
     ]
    }
   ],
   "source": [
    "num = int(input(\"数値を入力してください: \"))\n",
    "result = num + 10\n",
    "print(\"入力した数値に10を足すと:\", result)"
   ]
  },
  {
   "cell_type": "code",
   "execution_count": null,
   "id": "650dc0a8",
   "metadata": {},
   "outputs": [
    {
     "name": "stdout",
     "output_type": "stream",
     "text": [
      "a < b: True\n",
      "a == b: False\n"
     ]
    }
   ],
   "source": [
    "# 比較演算子\n",
    "a = 5\n",
    "b = 10\n",
    "\n",
    "# aがbより小さいかどうかを比較\n",
    "result = a < b # これはTrue\n",
    "\n",
    "# aとbが等しいかどうかを比較\n",
    "equal_result = a == b # これはFalse\n",
    "\n",
    "print(\"a < b:\", result)\n",
    "print(\"a == b:\", equal_result)"
   ]
  },
  {
   "cell_type": "code",
   "execution_count": 5,
   "id": "4b182d2a",
   "metadata": {},
   "outputs": [
    {
     "name": "stdout",
     "output_type": "stream",
     "text": [
      "False\n",
      "True\n",
      "False\n",
      "True\n"
     ]
    }
   ],
   "source": [
    "# ブール地の変換される値の例\n",
    "print(bool(0)) # False\n",
    "print(bool(1)) # True\n",
    "print(bool(\"\")) # False（空の文字列はFalse）\n",
    "print(bool(\"Hello\")) # True（非空の文字列はTrue）"
   ]
  },
  {
   "cell_type": "code",
   "execution_count": 6,
   "id": "2e9583b8",
   "metadata": {},
   "outputs": [
    {
     "name": "stdout",
     "output_type": "stream",
     "text": [
      "2\n",
      "10\n",
      "5\n"
     ]
    }
   ],
   "source": [
    "# Trueは1として扱われ、Falseは0として扱われる\n",
    "print(True + True) # 1 + 1 = 2\n",
    "print(True * 10) # 1 * 10 = 10\n",
    "print(False + 5) # 0 + 5 = 5"
   ]
  },
  {
   "cell_type": "code",
   "execution_count": 7,
   "id": "5ecb8504",
   "metadata": {},
   "outputs": [
    {
     "name": "stdout",
     "output_type": "stream",
     "text": [
      "私の名前はジョンです。私は30歳です。\n"
     ]
    }
   ],
   "source": [
    "name = \"ジョン\"\n",
    "age = 30\n",
    "print(f\"私の名前は{name}です。私は{age}歳です。\")"
   ]
  },
  {
   "cell_type": "code",
   "execution_count": 8,
   "id": "ece5f3e9",
   "metadata": {},
   "outputs": [
    {
     "name": "stdout",
     "output_type": "stream",
     "text": [
      "5足す10は15です。\n"
     ]
    }
   ],
   "source": [
    "a = 5\n",
    "b = 10\n",
    "print(f\"{a}足す{b}は{a + b}です。\")"
   ]
  },
  {
   "cell_type": "code",
   "execution_count": null,
   "id": "faab579b",
   "metadata": {},
   "outputs": [
    {
     "name": "stdout",
     "output_type": "stream",
     "text": [
      "小数点以下の桁数: 3.14です。\n",
      "カンマ区切り1,234,567,890\n",
      "文字列の幅「Alice     」\n",
      "ゼロ埋め00042\n",
      "パーセント表示：85.6%\n",
      "左揃え　「Alice     」\n",
      "右揃え　「     Alice」\n",
      "中央揃え　「  Alice   」\n",
      "現在日時: 2025-04-28 19:01:43\n"
     ]
    }
   ],
   "source": [
    "# 小数点以下の桁数\n",
    "pi = 3.14159\n",
    "print(f\"小数点以下の桁数: {pi:.2f}\") # 2桁に指定\n",
    "\n",
    "# カンマ区切り\n",
    "large_number = 1234567890\n",
    "print(f\"カンマ区切り{large_number:,}\")\n",
    "\n",
    "# 文字列の出力幅\n",
    "name = \"Alice\"\n",
    "print(f\"文字列の幅「{name:10}」\") # 10文字分の幅で表示\n",
    "\n",
    "# ゼロ埋め\n",
    "num = 42\n",
    "print(f\"ゼロ埋め{num:05}\") # 5桁で表示し、足りない部分はゼロで埋める\n",
    "\n",
    "# パーセント表示\n",
    "accuracy = 0.856\n",
    "print(f\"パーセント表示：{accuracy:.1%}\")\n",
    "\n",
    "# 揃え\n",
    "name = \"Alice\"\n",
    "print(f\"左揃え　「{name:<10}」\") # 左揃えで10文字幅\n",
    "print(f\"右揃え　「{name:>10}」\") # 右揃えで10文字幅\n",
    "print(f\"中央揃え　「{name:^10}」\") # 中央揃えで10文字幅\n",
    "\n",
    "from datetime import datetime\n",
    "now = datetime.now()\n",
    "print(f\"現在日時: {now:%Y-%m-%d %H:%M:%S}\")"
   ]
  },
  {
   "cell_type": "code",
   "execution_count": null,
   "id": "d6bc4efd",
   "metadata": {},
   "outputs": [],
   "source": []
  }
 ],
 "metadata": {
  "kernelspec": {
   "display_name": ".venv",
   "language": "python",
   "name": "python3"
  },
  "language_info": {
   "codemirror_mode": {
    "name": "ipython",
    "version": 3
   },
   "file_extension": ".py",
   "mimetype": "text/x-python",
   "name": "python",
   "nbconvert_exporter": "python",
   "pygments_lexer": "ipython3",
   "version": "3.13.3"
  }
 },
 "nbformat": 4,
 "nbformat_minor": 5
}
