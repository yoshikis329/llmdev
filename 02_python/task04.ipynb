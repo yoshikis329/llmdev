{
 "cells": [
  {
   "cell_type": "code",
   "execution_count": 6,
   "id": "9fe2a3e8",
   "metadata": {},
   "outputs": [
    {
     "name": "stdout",
     "output_type": "stream",
     "text": [
      "エラー: 数値を入力してください\n"
     ]
    }
   ],
   "source": [
    "try: \n",
    "    a = int(input(\"aを入力してください: \"))\n",
    "    b = int(input(\"bを入力してください: \"))\n",
    "    print(f\"計算結果: {a / b}\")\n",
    "\n",
    "except ValueError:\n",
    "    print(\"エラー: 数値を入力してください\")\n",
    "\n",
    "except ZeroDivisionError:\n",
    "    print(\"エラー: 0で割ることはできません\")\n"
   ]
  }
 ],
 "metadata": {
  "kernelspec": {
   "display_name": ".venv",
   "language": "python",
   "name": "python3"
  },
  "language_info": {
   "codemirror_mode": {
    "name": "ipython",
    "version": 3
   },
   "file_extension": ".py",
   "mimetype": "text/x-python",
   "name": "python",
   "nbconvert_exporter": "python",
   "pygments_lexer": "ipython3",
   "version": "3.13.3"
  }
 },
 "nbformat": 4,
 "nbformat_minor": 5
}
