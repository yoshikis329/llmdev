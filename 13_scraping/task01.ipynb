{
 "cells": [
  {
   "cell_type": "code",
   "execution_count": 34,
   "id": "8c3f9403",
   "metadata": {},
   "outputs": [],
   "source": [
    "# 必要なモジュールをインポート\n",
    "import os\n",
    "from dotenv import load_dotenv\n",
    "from openai import OpenAI\n",
    "import requests\n",
    "from bs4 import BeautifulSoup\n",
    "\n",
    "# 環境変数の取得\n",
    "load_dotenv(\"../.env\")\n",
    "\n",
    "# OpenAI APIクライアントを生成\n",
    "client = OpenAI(api_key=os.getenv(\"API_KEY\"))\n",
    "\n",
    "# モデル名\n",
    "MODEL_NAME = \"gpt-4o-mini\""
   ]
  },
  {
   "cell_type": "code",
   "execution_count": null,
   "id": "1a03d078",
   "metadata": {},
   "outputs": [
    {
     "name": "stdout",
     "output_type": "stream",
     "text": [
      "https://news.yahoo.co.jp/pickup/6538756\n",
      "https://news.yahoo.co.jp/articles/60ae71cddafc8773e9020b1e2ff94cbb35c221f4\n",
      "ジュネーブで記者会見するベッセント米財務長官（右）と米通商代表部（ＵＳＴＲ）のグリア代表（１２日）＝ロイター\n",
      "　【ワシントン＝田中宏幸、北京＝照沼亮介】米中両国は日本時間の１４日午後１時１分（米国時間午前０時１分、中国時間午後０時１分）、相互に課している追加関税をそれぞれ１１５％引き下げた。１０～１１日にスイスで行われた米中閣僚級協議での合意に基づく措置で、今後９０日間、追加関税率は米国が３０％、中国が１０％となる。\n",
      "\n",
      "【グラフ】ダウ平均（３０種）と日経平均株価（２２５種）の推移\n",
      "　４月以降に米中双方が課した追加関税３４％のうち２４％分を９０日間停止し、上乗せした報復関税９１％分は互いに撤廃する。一方、米中双方が税率１０％を維持するほか、米国は合成麻薬フェンタニルの流入対策を名目に発動している２０％は引き続き課し、対中追加関税は合わせて３０％となる。これとは別に米国による中国製の自動車や鉄鋼・アルミニウムなどに対する品目別の追加関税は、引き下げの対象外となる。\n",
      "　中国も、米国からの液化天然ガス（ＬＮＧ）や大豆など一部の輸入品に対する最大１５％の報復関税は合意の対象外として維持する。\n",
      "　米ブルームバーグ通信によると、中国政府は１３日までに国内の航空会社に要請していた米ボーイング社製航空機の納入停止を解除した。スイスでの米中合意には、中国が関税以外の報復措置の一時停止か廃止をすることが盛り込まれ、中国側が対応した格好だ。\n",
      "　トランプ米大統領は１２日、「習近平（シージンピン）国家主席と話すつもりだ。恐らく週末になる」と述べており、米中首脳間の電話などでの協議がいつ実現するかが次の焦点となる。\n"
     ]
    }
   ],
   "source": [
    "import re\n",
    "# ヤフーニュースのURL\n",
    "URL = \"https://news.yahoo.co.jp/\"\n",
    "\n",
    "# ページのHTMLを取得\n",
    "response_top = requests.get(URL)\n",
    "\n",
    "# BeautifulSoupを使ってHTMLを解析\n",
    "soup_top = BeautifulSoup(response_top.text, \"html.parser\")\n",
    "\n",
    "# 最初のトピックスを取得\n",
    "first_news_topic_url = soup_top.find(\"section\", id=\"uamods-topics\").find(\"li\").find(\"a\").get(\"href\")\n",
    "\n",
    "# 最初のトピックスの記事に移動\n",
    "response_topic = requests.get(first_news_topic_url)\n",
    "soup_topics = BeautifulSoup(response_topic.text, \"html.parser\")\n",
    "article_url = soup_topics.find(\"a\", attrs={\"data-cl-params\": \"_cl_vmodule:tpc_main;_cl_link:headline;_cl_position:2;\"}).get(\"href\")\n",
    "\n",
    "# 最初のトピックスの記事に移動\n",
    "response_article = requests.get(article_url)\n",
    "soup_article = BeautifulSoup(response_article.text, \"html.parser\")\n",
    "\n",
    "# 記事のタイトルを取得\n",
    "article_title = soup_article.find(id=\"uamods\").find(\"h1\").text\n",
    "\n",
    "# 記事の本文を取得\n",
    "article_body = soup_article.find(\"div\", class_=\"article_body\")\n",
    "article_text = \"\\n\".join([c.get_text() for c in article_body.find_all('p')])\n",
    "print(article_text)"
   ]
  },
  {
   "cell_type": "code",
   "execution_count": 61,
   "id": "ad15d66f",
   "metadata": {},
   "outputs": [],
   "source": [
    "# 記事の要約を行うプロンプト作成\n",
    "prompt = f\"\"\"\n",
    "以下の文章を要約してください\n",
    "\n",
    "# 条件\n",
    "- 100文字以内\n",
    "\n",
    "# 文章\n",
    "{article_text[:2000]}\n",
    "\"\"\"\n",
    "\n",
    "# APIを使って要約を生成\n",
    "response = client.chat.completions.create(\n",
    "    model=MODEL_NAME,\n",
    "    messages=[\n",
    "        {\"role\": \"user\", \"content\": prompt}\n",
    "    ],\n",
    "    max_tokens=300,\n",
    "    temperature=0.3\n",
    ")"
   ]
  },
  {
   "cell_type": "code",
   "execution_count": 63,
   "id": "53db8ac9",
   "metadata": {},
   "outputs": [
    {
     "name": "stdout",
     "output_type": "stream",
     "text": [
      "ヤフーニュースの一番上のトピックは「米中双方が関税１１５％引き下げ…追加関税は米国３０％・中国１０％に、スイス合意に基づき」です。\n",
      "米中は相互の追加関税を115％引き下げ、今後90日間は米国30％、中国10％に。合意には報復措置の一時停止も含まれ、米中首脳の協議が注目されている。\n"
     ]
    }
   ],
   "source": [
    "# LLMからの回答を表示\n",
    "print(f\"ヤフーニュースの一番上のトピックは「{article_title}」です。\")\n",
    "print(response.choices[0].message.content)"
   ]
  }
 ],
 "metadata": {
  "kernelspec": {
   "display_name": ".venv",
   "language": "python",
   "name": "python3"
  },
  "language_info": {
   "codemirror_mode": {
    "name": "ipython",
    "version": 3
   },
   "file_extension": ".py",
   "mimetype": "text/x-python",
   "name": "python",
   "nbconvert_exporter": "python",
   "pygments_lexer": "ipython3",
   "version": "3.13.3"
  }
 },
 "nbformat": 4,
 "nbformat_minor": 5
}
