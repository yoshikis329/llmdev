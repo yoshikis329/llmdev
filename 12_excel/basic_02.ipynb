{
 "cells": [
  {
   "cell_type": "code",
   "execution_count": 2,
   "id": "ee638e22",
   "metadata": {},
   "outputs": [],
   "source": [
    "# 必要なモジュールをインポート\n",
    "import os\n",
    "from dotenv import load_dotenv\n",
    "from openai import OpenAI\n",
    "import pandas as pd\n",
    "\n",
    "# 環境変数の取得\n",
    "load_dotenv()\n",
    "\n",
    "# OpenAI APIクライアントを生成\n",
    "client = OpenAI(api_key=os.getenv(\"API_KEY\"))\n",
    "\n",
    "# モデル名\n",
    "MODEL_NAME = \"gpt-4o-mini\""
   ]
  },
  {
   "cell_type": "code",
   "execution_count": 7,
   "id": "6c1af24c",
   "metadata": {},
   "outputs": [
    {
     "data": {
      "text/html": [
       "<div>\n",
       "<style scoped>\n",
       "    .dataframe tbody tr th:only-of-type {\n",
       "        vertical-align: middle;\n",
       "    }\n",
       "\n",
       "    .dataframe tbody tr th {\n",
       "        vertical-align: top;\n",
       "    }\n",
       "\n",
       "    .dataframe thead th {\n",
       "        text-align: right;\n",
       "    }\n",
       "</style>\n",
       "<table border=\"1\" class=\"dataframe\">\n",
       "  <thead>\n",
       "    <tr style=\"text-align: right;\">\n",
       "      <th></th>\n",
       "      <th>アンケート</th>\n",
       "    </tr>\n",
       "  </thead>\n",
       "  <tbody>\n",
       "    <tr>\n",
       "      <th>0</th>\n",
       "      <td>「使った瞬間、髪がしっとりサラサラになり驚きました。香りも強すぎずリラックスできる香りで気に...</td>\n",
       "    </tr>\n",
       "    <tr>\n",
       "      <th>1</th>\n",
       "      <td>「洗い上がりはスッキリするのに、髪が全然きしまず指通りが良くなりました！乾燥しがちな髪質です...</td>\n",
       "    </tr>\n",
       "    <tr>\n",
       "      <th>2</th>\n",
       "      <td>「香りが少し甘めで、好みが分かれそうです。個人的には好きですが、甘い香りが苦手な方には少し強...</td>\n",
       "    </tr>\n",
       "    <tr>\n",
       "      <th>3</th>\n",
       "      <td>「ボトルのデザインがシンプルでおしゃれなので、バスルームが映える感じがします。使用感も良くて...</td>\n",
       "    </tr>\n",
       "    <tr>\n",
       "      <th>4</th>\n",
       "      <td>「使い始めてから頭皮のかゆみが減りました。敏感肌なので合わないシャンプーが多いのですが、これ...</td>\n",
       "    </tr>\n",
       "  </tbody>\n",
       "</table>\n",
       "</div>"
      ],
      "text/plain": [
       "                                               アンケート\n",
       "0  「使った瞬間、髪がしっとりサラサラになり驚きました。香りも強すぎずリラックスできる香りで気に...\n",
       "1  「洗い上がりはスッキリするのに、髪が全然きしまず指通りが良くなりました！乾燥しがちな髪質です...\n",
       "2  「香りが少し甘めで、好みが分かれそうです。個人的には好きですが、甘い香りが苦手な方には少し強...\n",
       "3  「ボトルのデザインがシンプルでおしゃれなので、バスルームが映える感じがします。使用感も良くて...\n",
       "4  「使い始めてから頭皮のかゆみが減りました。敏感肌なので合わないシャンプーが多いのですが、これ..."
      ]
     },
     "execution_count": 7,
     "metadata": {},
     "output_type": "execute_result"
    }
   ],
   "source": [
    "# Excelファイルを読み込む\n",
    "df = pd.read_excel(\"サンプルデータ.xlsx\", sheet_name=\"アンケート\")\n",
    "# データフレームを表示して確認\n",
    "df.head()"
   ]
  },
  {
   "cell_type": "code",
   "execution_count": 5,
   "id": "758f7199",
   "metadata": {},
   "outputs": [],
   "source": [
    "# アンケートの主要キーワードをLLMで抽出する関数\n",
    "def extract_keywords(text):\n",
    "    # 2. データをLLM用にテキスト形式に変換\n",
    "    # プロンプトの生成\n",
    "    prompt_text = f\"以下のアンケートから主要なキーワードをカンマ区切りで抽出してください。\\nアンケート: {text}\"\n",
    "\n",
    "    # 3. OpenAI APIの呼び出し\n",
    "    try:\n",
    "        # OpenAI APIで応答を生成\n",
    "        response = client.chat.completions.create(\n",
    "            model=MODEL_NAME,\n",
    "            messages=[\n",
    "                {\"role\": \"user\", \"content\": prompt_text}\n",
    "            ],\n",
    "            max_tokens=100, # 応答の長さを調整\n",
    "            temperature=0.3 # 創造性の調整\n",
    "        )\n",
    "\n",
    "        # キーワードの抽出結果を取得\n",
    "        keywords = response.choices[0].message.content.strip()\n",
    "        return keywords\n",
    "\n",
    "    except Exception as e:\n",
    "        print(f\"API呼び出しでエラーが発生しました: {e}\")\n",
    "        return \"エラー\""
   ]
  },
  {
   "cell_type": "code",
   "execution_count": 9,
   "id": "3aa3f5d0",
   "metadata": {},
   "outputs": [
    {
     "name": "stdout",
     "output_type": "stream",
     "text": [
      "pandas, Excelファイル, 読み書き, データ, 集計, 変換, フィルタリング, 複雑な操作, ライブラリ\n"
     ]
    }
   ],
   "source": [
    "# テストコードで確認\n",
    "text = extract_keywords(\"pandasはExcelファイル（`.xls`、`.xlsx`形式）の読み書きに加え、データの集計や変換、フィルタリングといった複雑な操作を手軽に行えるライブラリです。\")\n",
    "print(text)"
   ]
  },
  {
   "cell_type": "code",
   "execution_count": null,
   "id": "a58c253a",
   "metadata": {},
   "outputs": [],
   "source": [
    "# 4. 分析結果をデータフレームに変換\n",
    "\n",
    "# B列（キーワード）を初期化\n",
    "df[\"キーワード\"] = \"\"\n",
    "\n",
    "# for文で各アンケート行に対してキーワード抽出を実行\n",
    "for index, row in df.iterrows():\n",
    "    # A列のアンケート内容を取得\n",
    "    survey_text = row[\"アンケート\"]\n",
    "\n",
    "    # キーワード抽出関数を呼び出し、結果をB列に保存\n",
    "    keywords = extract_keywords(survey_text)\n",
    "    df.at[index, \"キーワード\"] = keywords\n",
    "\n",
    "# データフレームを表示して確認\n",
    "df.head()"
   ]
  },
  {
   "cell_type": "code",
   "execution_count": 6,
   "id": "778ad5a3",
   "metadata": {},
   "outputs": [
    {
     "name": "stdout",
     "output_type": "stream",
     "text": [
      "処理を開始します。\n",
      "Excelファイルに分析結果を保存しました。\n"
     ]
    }
   ],
   "source": [
    "# ワークフロー化\n",
    "print(\"処理を開始します。\")\n",
    "\n",
    "# Excelファイルを読み込む\n",
    "df = pd.read_excel(\"サンプルデータ.xlsx\", sheet_name=\"アンケート\")\n",
    "\n",
    "# A列の各行のアンケートに対してキーワード抽出を実行し、B列に書き込む\n",
    "df[\"キーワード\"] = df[\"アンケート\"].apply(extract_keywords)\n",
    "\n",
    "# 結果をExcelファイルに保存\n",
    "df.to_excel(\"アンケート分析結果.xlsx\", index=False)\n",
    "\n",
    "print(\"Excelファイルに分析結果を保存しました。\")"
   ]
  }
 ],
 "metadata": {
  "kernelspec": {
   "display_name": ".venv",
   "language": "python",
   "name": "python3"
  },
  "language_info": {
   "codemirror_mode": {
    "name": "ipython",
    "version": 3
   },
   "file_extension": ".py",
   "mimetype": "text/x-python",
   "name": "python",
   "nbconvert_exporter": "python",
   "pygments_lexer": "ipython3",
   "version": "3.13.3"
  }
 },
 "nbformat": 4,
 "nbformat_minor": 5
}
