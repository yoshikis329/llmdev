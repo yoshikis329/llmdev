{
 "cells": [
  {
   "cell_type": "code",
   "execution_count": 4,
   "id": "c052cc4f",
   "metadata": {},
   "outputs": [],
   "source": [
    "import os\n",
    "from dotenv import load_dotenv\n",
    "from openai import OpenAI\n",
    "import pandas as pd\n",
    "\n",
    "# 環境変数の取得\n",
    "load_dotenv()\n",
    "\n",
    "# OpenAI APIクライアントの生成\n",
    "client = OpenAI(api_key=os.getenv(\"API_KEY\"))\n",
    "\n",
    "# モデル名\n",
    "MODEL_NAME = \"gpt-4o-mini\""
   ]
  },
  {
   "cell_type": "code",
   "execution_count": 5,
   "id": "8127cd6d",
   "metadata": {},
   "outputs": [],
   "source": [
    "def extract_trend_keywords(df):\n",
    "    # トピックスタイトルをリストに変換\n",
    "    titles = df['トピックスタイトル'].tolist()\n",
    "\n",
    "    # トピックタイトルを結合してプロンプトを作成\n",
    "    prompt = \"以下のトピックスタイトルからトレンドキーワードを推定し、「トレンドキーワード」のみをカンマ区切りで答えてください。\\n\\n\"\n",
    "    for title in titles:\n",
    "        prompt += f\"・{title}\\n\"\n",
    "\n",
    "    try:\n",
    "        response = client.chat.completions.create(\n",
    "            model=MODEL_NAME,\n",
    "            messages=[\n",
    "                {\"role\": \"user\", \"content\": prompt}\n",
    "            ],\n",
    "        )\n",
    "        # レスポンスからトレンドキーワードを抽出\n",
    "        trend_keywords = response.choices[0].message.content.strip().split(\",\")\n",
    "        return trend_keywords\n",
    "    except Exception as e:\n",
    "        print(f\"API呼び出しでエラーが発生しました: {e}\")\n",
    "        return \"エラー\"\n",
    "\n"
   ]
  },
  {
   "cell_type": "code",
   "execution_count": 7,
   "id": "bed6bf7a",
   "metadata": {},
   "outputs": [
    {
     "name": "stdout",
     "output_type": "stream",
     "text": [
      "処理を開始します。\n",
      "現在のニュースのトレンドキーワードは以下です。\n",
      "・日銀会合\n",
      "・米関税\n",
      "・英首相\n",
      "・不審火\n",
      "・情報漏えい\n",
      "・兵庫県\n",
      "・硫化水素\n",
      "・盗難仏像\n",
      "・対馬\n",
      "・新技術\n",
      "・超音波\n",
      "・電撃トレード\n",
      "・城島氏\n",
      "・インハイ予選\n",
      "・再試合\n",
      "処理が完了しました。\n"
     ]
    }
   ],
   "source": [
    "print(\"処理を開始します。\")\n",
    "\n",
    "# Excelファイルを読み込み\n",
    "df = pd.read_excel(\"タスク用のデータ.xlsx\")\n",
    "\n",
    "# トピックスタイトルからキーワード抽出\n",
    "trend_keywords = extract_trend_keywords(df)\n",
    "\n",
    "# トレンドキーワードを出力\n",
    "print(\"現在のニュースのトレンドキーワードは以下です。\")\n",
    "\n",
    "for trend_keyword in trend_keywords:\n",
    "    print(f\"・{trend_keyword.strip()}\")\n",
    "\n",
    "print(\"処理が完了しました。\")"
   ]
  }
 ],
 "metadata": {
  "kernelspec": {
   "display_name": ".venv",
   "language": "python",
   "name": "python3"
  },
  "language_info": {
   "codemirror_mode": {
    "name": "ipython",
    "version": 3
   },
   "file_extension": ".py",
   "mimetype": "text/x-python",
   "name": "python",
   "nbconvert_exporter": "python",
   "pygments_lexer": "ipython3",
   "version": "3.13.3"
  }
 },
 "nbformat": 4,
 "nbformat_minor": 5
}
