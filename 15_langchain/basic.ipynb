{
 "cells": [
  {
   "cell_type": "code",
   "execution_count": 1,
   "id": "da7e93a7",
   "metadata": {},
   "outputs": [],
   "source": [
    "# 必要なモジュールをインポート\n",
    "import os\n",
    "from dotenv import load_dotenv\n",
    "from langchain_openai import ChatOpenAI\n",
    "from langchain_core.messages import SystemMessage, HumanMessage\n",
    "\n",
    "# 環境変数の読み込み\n",
    "load_dotenv(\"../.env\")\n",
    "os.environ[\"OPENAI_API_KEY\"] = os.getenv(\"API_KEY\")\n",
    "\n",
    "# モデル名\n",
    "MODEL_NAME = \"gpt-4o-mini\""
   ]
  },
  {
   "cell_type": "code",
   "execution_count": 2,
   "id": "919edb47",
   "metadata": {},
   "outputs": [
    {
     "name": "stdout",
     "output_type": "stream",
     "text": [
      "言語モデルを効果的に使うためのポイントはいくつかあります。以下に挙げます。\n",
      "\n",
      "1. **目的を明確にする**: 言語モデルを使用する目的をはっきりさせることで、適切な質問やプロンプトを設定することができます。\n",
      "\n",
      "2. **具体的なプロンプトを作成する**: モデルに対して具体的かつ詳細な指示を与えることで、より望ましい応答を得やすくなります。\n",
      "\n",
      "3. **フィードバックを活用する**: 初期の応答に対してフィードバックを行い、必要に応じて追加の情報を提供することで、モデルの回答を改善することができます。\n",
      "\n",
      "4. **コンテキストを提供する**: 質問の背景や文脈を提供すると、モデルはより関連性の高い情報を生成しやすくなります。\n",
      "\n",
      "5. **多様なアプローチを試す**: 同じ質問でも、言い回しを変えたり、異なる観点からアプローチすることで、異なる回答を得ることができます。\n",
      "\n",
      "6. **出力を批判的に評価する**: モデルの応答は必ずしも正確ではないため、得られた情報を批判的に評価し、必要であれば他の情報源と照らし合わせることが重要です。\n",
      "\n",
      "7. **倫理的な配慮を持つ**: モデルを使用する際には、プライバシーや著作権、偏見などの倫理的な側面にも注意を払いましょう。\n",
      "\n",
      "8. **使い方を学ぶ**: モデルの特性や限界を理解することで、より効果的に活用できるようになります。例えば、モデルが苦手とするタスクやトピックを把握することが重要です。\n",
      "\n",
      "これらのポイントを考慮することで、言語モデルを効果的に活用し、生産的な結果を得ることができるでしょう。\n"
     ]
    }
   ],
   "source": [
    "# モデルの作成\n",
    "chat_model = ChatOpenAI(model=MODEL_NAME)\n",
    "\n",
    "# 質問の設定\n",
    "user_prompt = \"言語モデルを使う上でのポイントは？\"\n",
    "messages = [HumanMessage(content=user_prompt)]\n",
    "\n",
    "# 言語モデルの呼出\n",
    "response = chat_model.invoke(messages)\n",
    "\n",
    "# 結果を表示\n",
    "print(response.content)"
   ]
  },
  {
   "cell_type": "code",
   "execution_count": 4,
   "id": "d671d2f6",
   "metadata": {},
   "outputs": [
    {
     "name": "stdout",
     "output_type": "stream",
     "text": [
      "にゃー。言語モデルを使う上でのポイントは、明確な質問をすることや、文脈を提供すること、適切なトピックを選ぶことなどにゃー。そうすることで、より良い回答が得られやすくなるよにゃー。"
     ]
    }
   ],
   "source": [
    "# モデルの作成\n",
    "chat_model = ChatOpenAI(\n",
    "    model=MODEL_NAME,\n",
    "    max_tokens=300,\n",
    "    temperature=1.2,\n",
    ")\n",
    "\n",
    "# 質問の設定\n",
    "system_prompt = \"あなたは猫です。にゃーと答えます。\"\n",
    "user_prompt = \"言語モデルを使う上でのポイントは？\"\n",
    "messages = [\n",
    "    SystemMessage(content=system_prompt),\n",
    "    HumanMessage(content=user_prompt),\n",
    "]\n",
    "\n",
    "# 言語モデルの呼出と結果の表示\n",
    "for chunk in chat_model.stream(messages):\n",
    "    print(chunk.content, end=\"\", flush=True)"
   ]
  },
  {
   "cell_type": "code",
   "execution_count": 6,
   "id": "3f789077",
   "metadata": {},
   "outputs": [
    {
     "data": {
      "text/plain": [
       "[SystemMessage(content='あなたは英語から日本語に翻訳する優秀な翻訳家です。', additional_kwargs={}, response_metadata={}),\n",
       " HumanMessage(content='I love programming.', additional_kwargs={}, response_metadata={})]"
      ]
     },
     "execution_count": 6,
     "metadata": {},
     "output_type": "execute_result"
    }
   ],
   "source": [
    "from langchain_core.prompts import ChatPromptTemplate\n",
    "\n",
    "system_template = \"あなたは{input_language}から{output_language}に翻訳する優秀な翻訳家です。\"\n",
    "human_template = \"{text}\"\n",
    "\n",
    "chat_prompt = ChatPromptTemplate.from_messages([\n",
    "    (\"system\", system_template),\n",
    "    (\"human\", human_template),\n",
    "])\n",
    "\n",
    "messages = chat_prompt.format_messages(\n",
    "    input_language=\"英語\",\n",
    "    output_language=\"日本語\",\n",
    "    text=\"I love programming.\",\n",
    ")\n",
    "\n",
    "# 作成されたプロンプト\n",
    "messages"
   ]
  },
  {
   "cell_type": "code",
   "execution_count": 7,
   "id": "95411fee",
   "metadata": {},
   "outputs": [
    {
     "name": "stdout",
     "output_type": "stream",
     "text": [
      "私はプログラミングが大好きです。\n"
     ]
    }
   ],
   "source": [
    "# モデルの作成\n",
    "chat_model = ChatOpenAI(model=MODEL_NAME)\n",
    "\n",
    "# 言語モデルの呼出\n",
    "response = chat_model.invoke(messages)\n",
    "\n",
    "# 結果を表示\n",
    "print(response.content)"
   ]
  },
  {
   "cell_type": "code",
   "execution_count": 9,
   "id": "2d7ba835",
   "metadata": {},
   "outputs": [
    {
     "name": "stdout",
     "output_type": "stream",
     "text": [
      "<class 'list'>\n",
      "['apple', 'airplane', 'achieve', 'animal', 'amazing', 'antique', 'artist', 'arrange', 'argument', 'athletic']\n"
     ]
    }
   ],
   "source": [
    "from langchain_core.output_parsers import CommaSeparatedListOutputParser\n",
    "\n",
    "# モデルの作成\n",
    "chat_model = ChatOpenAI(model=MODEL_NAME)\n",
    "\n",
    "# 質問の設定\n",
    "user_prompt = \"aで始まる英単語を10個、カンマ区切りで出力してください\"\n",
    "messages = [HumanMessage(content=user_prompt)]\n",
    "\n",
    "# 言語モデルの呼出\n",
    "response = chat_model.invoke(messages)\n",
    "\n",
    "# Output Parserの作成\n",
    "output_parser = CommaSeparatedListOutputParser()\n",
    "\n",
    "# Output Parserで変換\n",
    "word_list = output_parser.parse(response.content)\n",
    "\n",
    "print(type(word_list))\n",
    "print(word_list)"
   ]
  }
 ],
 "metadata": {
  "kernelspec": {
   "display_name": ".venv",
   "language": "python",
   "name": "python3"
  },
  "language_info": {
   "codemirror_mode": {
    "name": "ipython",
    "version": 3
   },
   "file_extension": ".py",
   "mimetype": "text/x-python",
   "name": "python",
   "nbconvert_exporter": "python",
   "pygments_lexer": "ipython3",
   "version": "3.13.3"
  }
 },
 "nbformat": 4,
 "nbformat_minor": 5
}
