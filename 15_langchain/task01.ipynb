{
 "cells": [
  {
   "cell_type": "code",
   "execution_count": 17,
   "id": "c1a4fa6e",
   "metadata": {},
   "outputs": [
    {
     "name": "stdout",
     "output_type": "stream",
     "text": [
      "こんにちは！\n",
      "こんにちは！今日はどのようなことをお手伝いできますか？\n",
      "1たす2は？\n",
      "1たす2は3です。\n",
      "台湾観光について検索結果を教えて\n",
      "\n",
      "[{\"title\": \"【2025年最新】台湾観光のおすすめスポット27選！都市別で紹介\", \"url\": \"https://newt.net/twn/tpe/mag-974247954244\", \"content\": \"photo by Shutterstock1日目　台北到着→新幹線で高雄へ→名物の牛肉麺ランチ→高雄市内観光（蓮池潭、美麗島駅）→駁二芸術特区で散策を楽しむ→愛河で夕日観賞→六合夜市で食べ歩き2日目　高雄から台鉄で台南へ→度小月担仔麺でランチ→林百貨でショッピング→神農街でノスタルジック散策3日目　台南市内観光（赤嵌樓、安平樹屋）→台南から台北へ→そのまま九份へ4日目　龍山寺や迪化街で街歩き→鼎泰豊本店で小籠包ランチ→お土産探し→帰国\\n\\n台湾観光で見どころ満載の旅行を満喫しよう！\\n\\nこの記事では、台湾のおすすめの観光地とモデルコースを紹介しました。台北市をはじめ、台南、高雄、台中など名所や見どころがいっぱいある台湾では、効率よくグルメも観光も楽しむのがおすすめです。ぜひ紹介したスポットやモデルコースを参考に、オリジナルの台湾観光のスケジュールを立ててみてくださいね！※2023年9月20日のレート、1台湾ドル＝4.63円で計算していますcover photo by shutterstock\\n\\nおトクなフライトつきツアーも🛫 [...] photo by pixabay台湾は、日本から4時間ほどで行ける人気の観光地。日本からの直行便も多く、費用も格安で弾丸で台湾観光を楽しめるのも魅力のひとつです。親日家が多く治安もいいので、台湾は初めての海外旅行先にもおすすめ！台湾には屋台が並ぶ夜市や、映画『千と千尋の神隠し』のモデルともいわれる九份、幻想的なランタンの世界を楽しめる十分などの観光名所や見どころスポットもいっぱいです。小籠包、かき氷、魯肉飯などの台湾グルメも欠かせません。\\n\\n台湾観光のベストシーズンは？\\n\\nphoto by pixabay台湾の気候は、1年中を通して暖かく夏のような気候が続き、とくに、3月から5月、9月下旬から11月にかけては台湾観光のベストシーズン。カラッと晴れる日が多くて台湾観光にもおすすめの時期です。1月から2月にかけては短いですが冬のような気候になります。6月から9月にかけては台風やスコールが多く、雨の日が続くこともあります。この記事では、台湾のおすすめの観光地をエリア別に紹介していきます！\\n\\n＼NEWTでおトクな台湾ツアーをチェック／ [...] photo by Shutterstock / Shawn.ccf1日目　台北到着→ローカル食堂で魯肉飯のランチ→市内観光（故宮博物院、中正紀念堂、忠烈祠）→台北101で景色を観賞→士林夜市でB級グルメを満喫2日目　ホテルで朝食→流行文化の発信地・西門町やレトロな迪化街、おしゃれな永康街で街歩きを楽しむ→鼎泰豊本店で小籠包の食事→夕暮れの九份で観光＆食べ歩き3日目　世紀豆漿大王で台湾式の朝食→龍山寺でお参り＆占い→中山エリアでショッピング＆お土産探し→帰国\\n\\n台北、台南、高雄を縦断する3泊4日のモデルコース\\n\\nphoto by Shutterstock台湾リピーターにおすすめなのが、台北以外の都市を巡るコース！新幹線を使えば、高雄や台南などの都市にも気軽に行けちゃいます。高雄と台南で一泊ずつして、夜市や名物グルメを楽しみましょう！＜スケジュール例＞\", \"score\": 0.9119436}, {\"title\": \"台湾観光情報・おすすめ観光スポット特集【HIS】\", \"url\": \"https://www.his-j.com/sightseeing/kaigai/asia/taiwan/\", \"content\": \"å°æ¹¾è¦³åæå ±ã»ããããè¦³åã¹ãããç¹é\\n\\n\\n\\nçºçå°å¤æ´\\n\\nTaiwan\\n\\nå°æ¹¾è¦³åæå ±\\n\\n\\n\\nã°ã«ã¡ãã·ã§ããã³ã°ãè¶³ã¤ã¼ãããµã¼ã¸ãªã©é­åãã£ã±ãã®å½ãé£ã¹æ­©ãããä¸æµã¬ã¹ãã©ã³ã¾ã§æ¥½ãããå°åãå°æ¹¾ã¹ã¤ã¼ãçºç¥¥ã®å°ã¨ããããå°ä¸­ããæµ·é®®æçãé­åã®é«éãã¬ãã­ãªè¡ä¸¦ã¿ãæ¥½ãããå°åã¨ãåããåã¾ã§æ¥½ãããè©°ã¾ã£ã¦ãã¾ãã [...] â»æ²è¼ã®æéã»åå®¹ã¯ã çºæ¿ã¬ã¼ãç­ãå¤åããå¯è½æ§ããããã¾ããè³¼å¥æã®æéã¨ç°ãªãå ´åããããã¾ãã®ã§ãæ­£ç¢ºãªæå ±ã¯åãã¢ã¼è©³ç´°ãã¼ã¸ã«ã¦ãç¢ºèªãã ããã\\n\\nããããã®ãåç£\\n\\nå°æ¹¾ã®é½å¸ã®è¦³åæå ±ãè¦ã\\n\\nTaipeiå°åè¦³åæå ± [...] å½ã»èªæ²»åºï¼å½æï¼ | ä¸­è¯æ°å½ã»å°æ¹¾Chinese Taipei\\nè¨èª | å¬ç¨èªã¯ä¸­å½èªã ããä¸­å½æ¬åã§å¹åºãä½¿ããã¦ããåäº¬èªã¨ã¯è¡¨ç¾ãéãå ´åãããã¾ããå©ç¨ããæ¼¢å­ããæ¬åãç°¡ä½å­ã«å¯¾ããå°æ¹¾ã¯ç¹ä½å­ã\\næå·® | -1æé æ¥æ¬ã3æ¥15æã®ã¨ããå°æ¹¾ã¯3æ¥14æ\\nå®æ | ä»æãéæãã­ãªã¹ãæãªã©\", \"score\": 0.7230167}]\n",
      "台湾観光に関するおすすめの情報をいくつか紹介します。\n",
      "\n",
      "1. **台湾観光のおすすめスポット27選**\n",
      "   - **内容**: 台北を中心に、高雄、台南、台中等の観光名所やモデルコースを紹介しています。台北から新幹線で高雄に移動し、名物の牛肉麺や夜市を楽しむプランなどが提案されています。また、台湾の観光ベストシーズンは3月から5月及び9月下旬から11月とのことです。\n",
      "   - **リンク**: [台湾観光のおすすめスポット27選](https://newt.net/twn/tpe/mag-974247954244)\n",
      "\n",
      "2. **台湾観光情報・おすすめ観光スポット特集【HIS】**\n",
      "   - **内容**: 台湾の様々な観光スポットや文化、グルメ情報が詳しく紹介されています。特に「鼎泰豊」などの有名なレストランや年中行事についての情報が満載です。また、観光の際の注意点や便利なツアー情報も掲載されています。\n",
      "   - **リンク**: [台湾観光情報・おすすめ観光スポット特集【HIS】](https://www.his-j.com/sightseeing/kaigai/asia/taiwan/)\n",
      "\n",
      "これらの情報を参考に、台湾旅行を計画してみてくださいね！\n",
      "ありがとうございました!\n"
     ]
    }
   ],
   "source": [
    "# 必要なモジュールをインポート\n",
    "import os\n",
    "from dotenv import load_dotenv\n",
    "from langchain_openai import ChatOpenAI\n",
    "from typing import Annotated\n",
    "from typing_extensions import TypedDict\n",
    "from langchain_community.tools.tavily_search import TavilySearchResults\n",
    "from langgraph.graph import StateGraph\n",
    "from langgraph.graph.message import add_messages\n",
    "from langgraph.prebuilt import ToolNode, tools_condition\n",
    "from langgraph.checkpoint.memory import MemorySaver\n",
    "\n",
    "# ===== Stateクラスの定義 =====\n",
    "class State(TypedDict):\n",
    "    messages: Annotated[list, add_messages]\n",
    "\n",
    "# ===== グラフの構築 =====\n",
    "def build_graph(model_name):\n",
    "    # 検索ツールの定義\n",
    "    tools = [TavilySearchResults(max_results=2)]\n",
    "    tool_node = ToolNode(tools)\n",
    "\n",
    "    # 言語モデルの定義\n",
    "    llm = ChatOpenAI(model=model_name)\n",
    "    llm_with_tools = llm.bind_tools(tools)\n",
    "\n",
    "    # chatbot関数の定義\n",
    "    def chatbot(state: State):\n",
    "        return {\"messages\": llm_with_tools.invoke(state[\"messages\"])}\n",
    "\n",
    "    # MemorySaverのインスタンス化\n",
    "    memory_saver = MemorySaver()\n",
    "\n",
    "    # グラフの作成\n",
    "    graph_builder = StateGraph(State)\n",
    "    graph_builder.add_node(\"chatbot\", chatbot)\n",
    "    graph_builder.add_node(\"tools\", tool_node)\n",
    "    graph_builder.add_conditional_edges(\"chatbot\", tools_condition)\n",
    "    graph_builder.add_edge(\"tools\", \"chatbot\")\n",
    "    graph_builder.set_entry_point(\"chatbot\")\n",
    "\n",
    "    return graph_builder.compile(checkpointer=memory_saver)\n",
    "\n",
    "# ===== グラフ実行関数 =====\n",
    "def stream_graph_updates(graph: StateGraph, user_input: str):\n",
    "    events = graph.stream(\n",
    "        {\"messages\": [user_input]},\n",
    "        {\"configurable\": {\"thread_id\": \"1\"}},\n",
    "        stream_mode=\"values\"\n",
    "    )\n",
    "    for event in events:\n",
    "        print(event[\"messages\"][-1].content, flush=True)\n",
    "\n",
    "# ===== メイン実行ロジック =====\n",
    "# 環境変数の読み込み\n",
    "load_dotenv(\"../.env\")\n",
    "os.environ['OPENAI_API_KEY'] = os.environ['API_KEY']\n",
    "\n",
    "# モデル名\n",
    "MODEL_NAME = \"gpt-4o-mini\" \n",
    "\n",
    "# グラフの作成\n",
    "graph = build_graph(MODEL_NAME)\n",
    "\n",
    "# メインループ\n",
    "while True:\n",
    "    user_input = input(\"質問: \")\n",
    "    if user_input == \"\":\n",
    "        print(\"ありがとうございました!\")\n",
    "        break\n",
    "    stream_graph_updates(graph, user_input)"
   ]
  }
 ],
 "metadata": {
  "kernelspec": {
   "display_name": ".venv",
   "language": "python",
   "name": "python3"
  },
  "language_info": {
   "codemirror_mode": {
    "name": "ipython",
    "version": 3
   },
   "file_extension": ".py",
   "mimetype": "text/x-python",
   "name": "python",
   "nbconvert_exporter": "python",
   "pygments_lexer": "ipython3",
   "version": "3.13.3"
  }
 },
 "nbformat": 4,
 "nbformat_minor": 5
}
