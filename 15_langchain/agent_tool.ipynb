{
 "cells": [
  {
   "cell_type": "code",
   "execution_count": 2,
   "id": "11237459",
   "metadata": {},
   "outputs": [],
   "source": [
    "# 必要なモジュールをインポート\n",
    "import os\n",
    "from dotenv import load_dotenv\n",
    "from langchain_openai import ChatOpenAI\n",
    "\n",
    "# 環境変数の読み込み\n",
    "load_dotenv(\"../.env\")\n",
    "os.environ['OPENAI_API_KEY'] = os.environ['API_KEY']\n",
    "\n",
    "# モデル名\n",
    "MODEL_NAME = \"gpt-4o-mini\""
   ]
  },
  {
   "cell_type": "code",
   "execution_count": 3,
   "id": "e952a4f9",
   "metadata": {},
   "outputs": [],
   "source": [
    "# 検索ツールの定義\n",
    "from langchain_community.tools.tavily_search import TavilySearchResults\n",
    "\n",
    "tool  = TavilySearchResults(max_results=2)\n",
    "tools = [tool]"
   ]
  },
  {
   "cell_type": "code",
   "execution_count": 4,
   "id": "ea0ed544",
   "metadata": {},
   "outputs": [
    {
     "data": {
      "text/plain": [
       "[{'title': 'LangGraphとは？エージェントの使い方とワークフロー構築法を ...',\n",
       "  'url': 'https://weel.co.jp/media/tech/langgraph/',\n",
       "  'content': '参考：https://github.com/langchain-ai/langgraph/blob/main/docs/docs/how-tos/visualization.ipynb\\nLangGraphを使うことにより複数のエージェントを定義することができ、それぞれに特定の役割を持たせることができます。また、各ステップを「ノード」として定義して「状態の遷移」を制御可能。さらに、条件付き遷移や処理の再実行が簡単にできるなどのメリットがあります。\\nLangGraphはRAGのような使い方もできますが、LangGraphとRAGは異なっており、RAGはLLMに不足している知識を外部データベースから補完するのに対して、LangGraphはその処理の流れ(検索→生成→出力など)をノードとして組み、順序や条件を制御する役割を担っています。\\nLangGraphの構成要素\\nLangGraphにはノードや状態の遷移以外にも構成要素があります。※1\\n先ほどの画像と見比べながら解説をします。',\n",
       "  'score': 0.8687491},\n",
       " {'title': 'LangGraphの基本的な使い方',\n",
       "  'url': 'https://zenn.dev/pharmax/articles/8796b892eed183',\n",
       "  'content': 'コンポーネント | 説明\\nGraph | LangGraphの中核となる構成要素で、各NodeとEdgeの集合体です。\\nState | ノード間の遷移の際に保持される情報で、各ノードが参照および更新します。\\nNode | グラフ内の個々のステップや状態を表す要素で、特定のアクションやチェックポイントとして機能します。\\nEdge | ノード間の接続を表し、遷移の条件やアクションを定義します。条件付きエッジなど、特定のロジックに基づいて遷移を制御できます。\\nGraph\\n\\nGraphは、LangGraphの中核となるグラフ全体を管理するためのコンポーネントです。基本的な使い方としては、StateGraphというクラスを使い、後述するStateとセットで初期化します。\\n\\n（StateGraphの宣言例）\\n\\nState\\n\\nStateは、Graph内のNodeやEdgeに渡される状態のオブジェクトです。\\n\\nStateには、typingモジュールの「TypeDict」または「PydanticのBaseModel」が使用できます。\\n\\n以下は、TypeDictを継承したStateの例です。 [...] Reducers\\n\\nStateは、reducerと呼ばれる関数と一緒に使用することもできます。reducerは、状態を更新するための関数で、(現在の値、追加される値) -> 状態を更新する値のシグネチャを持ちます。\\n\\nreducerを使用することで、状態の更新時に特定のロジックを介することが可能になります。\\n\\nNode\\n\\nNodeは、Graph上で実際のステップを実行するコンポーネントです。例えば実際にLangChainを使用してLLMのモデルを呼び出す処理は、Node上で行います。\\n\\nNodeでは、(State、Config) -> 変更するStateというシグネチャを持つ関数を使うことができます。\\n\\ngraphに対して add_node というメソッドを使用して、nodeを紐づけます。第一引数は、Nodeに対して任意のpath名を文字列で指定できます。\\n\\nEdge\\n\\nEdgeは、各NodeやGraphがどのように動作するか（ルーティング、開始点の定義など）を定義するコンポーネントです。',\n",
       "  'score': 0.82492816}]"
      ]
     },
     "execution_count": 4,
     "metadata": {},
     "output_type": "execute_result"
    }
   ],
   "source": [
    "tool.invoke(\"Langgraphのノードとは？\")"
   ]
  },
  {
   "cell_type": "code",
   "execution_count": 5,
   "id": "c8608c1d",
   "metadata": {},
   "outputs": [
    {
     "data": {
      "text/plain": [
       "<langgraph.graph.state.StateGraph at 0x135f82f8d70>"
      ]
     },
     "execution_count": 5,
     "metadata": {},
     "output_type": "execute_result"
    }
   ],
   "source": [
    "from typing import Annotated\n",
    "from typing_extensions import TypedDict\n",
    "from langgraph.graph import StateGraph\n",
    "from langgraph.graph.message import add_messages\n",
    "\n",
    "# Stateクラスの定義\n",
    "class State(TypedDict):\n",
    "    messages: Annotated[list, add_messages]\n",
    "\n",
    "# グラフのインスタンスを作成\n",
    "graph_builder = StateGraph(State)\n",
    "\n",
    "# 言語モデルの定義\n",
    "llm = ChatOpenAI(model_name=MODEL_NAME)\n",
    "\n",
    "# 変更点：ツール定義の紐づけ\n",
    "llm_with_tools = llm.bind_tools(tools)\n",
    "\n",
    "# チャットボットノードの作成\n",
    "def chatbot(state: State):\n",
    "    return {\"messages\": llm_with_tools.invoke(state[\"messages\"])}\n",
    "\n",
    "# グラフにチャットボットノードを追加\n",
    "graph_builder.add_node(\"chatbot\", chatbot)"
   ]
  },
  {
   "cell_type": "code",
   "execution_count": 6,
   "id": "bae43f07",
   "metadata": {},
   "outputs": [],
   "source": [
    "from langgraph.prebuilt import ToolNode, tools_condition\n",
    "from langgraph.checkpoint.memory import MemorySaver\n",
    "\n",
    "# ツールノードの作成\n",
    "tool_node = ToolNode(tools)\n",
    "\n",
    "# グラフにツールノードを追加\n",
    "graph_builder.add_node(\"tools\", tool_node)\n",
    "\n",
    "# 条件付エッジの作成\n",
    "graph_builder.add_conditional_edges(\n",
    "    \"chatbot\",\n",
    "    tools_condition, # ツール呼出と判断したらツールノードを呼ぶ\n",
    ")\n",
    "\n",
    "# ツールが呼び出されるたびに、チャットボットに戻って次のステップを決定\n",
    "# ツールからチャットボットへの戻りエッジを作成\n",
    "graph_builder.add_edge(\"tools\", \"chatbot\")\n",
    "\n",
    "# 開始ノードの指定\n",
    "graph_builder.set_entry_point(\"chatbot\")\n",
    "\n",
    "# 記憶を持つ実行可能なステートグラフの作成\n",
    "memory = MemorySaver()\n",
    "graph = graph_builder.compile(checkpointer=memory)"
   ]
  },
  {
   "cell_type": "code",
   "execution_count": 7,
   "id": "10754343",
   "metadata": {},
   "outputs": [
    {
     "data": {
      "image/png": "[encoded data removed]",
      "text/plain": [
       "<IPython.core.display.Image object>"
      ]
     },
     "metadata": {},
     "output_type": "display_data"
    }
   ],
   "source": [
    "from IPython.display import Image, display\n",
    "display(Image(graph.get_graph().draw_mermaid_png()))"
   ]
  },
  {
   "cell_type": "code",
   "execution_count": 8,
   "id": "00726b77",
   "metadata": {},
   "outputs": [
    {
     "name": "stdout",
     "output_type": "stream",
     "text": [
      "こんにちは！\n",
      "こんにちは！何かお手伝いできることはありますか？\n",
      "1足す2は？\n",
      "1足す2は3です。何か他に計算したいことがあれば教えてください！\n",
      "1メートル以上の魚は？\n",
      "\n",
      "[{\"title\": \"クエ（海からの贈りもの） - 和歌山県 日高町\", \"url\": \"http://cms.town.wakayama-hidaka.lg.jp/docs/2014090300054/\", \"content\": \"少々いかつい顔をしたこの“どでかい魚”、名前はクエ。 大きいものでは、体長1メートル以上にも達する大型魚です。関東以南の太平洋沿岸から東シナ海沿岸にかけての温かい海\", \"score\": 0.78473216}, {\"title\": \"オオニベ | 魚類 - 市場魚貝類図鑑 ぼうずコンニャク\", \"url\": \"https://www.zukan-bouz.com/syu/%E3%82%AA%E3%82%AA%E3%83%8B%E3%83%99\", \"content\": \"1m以上になる大型魚でイヤミのない魚なので知名度はないものの、徐々に人気を得ている。 関東の市場でも普通になっていて、切り身などで小売店に並ぶこともある\", \"score\": 0.76847315}]\n",
      "1メートル以上の魚には以下のような種類があります：\n",
      "\n",
      "1. **クエ**  \n",
      "   [和歌山県日高町の情報](http://cms.town.wakayama-hidaka.lg.jp/docs/2014090300054/)によると、クエは体長1メートル以上にも達する大型魚で、関東以南の太平洋沿岸から東シナ海沿岸にかけて生息しています。\n",
      "\n",
      "2. **オオニベ**  \n",
      "   [市場魚貝類図鑑](https://www.zukan-bouz.com/syu/%E3%82%AA%E3%82%AA%E3%83%8B%E3%83%99)によると、オオニベも1メートル以上になる大型魚で、知名度はあまり高くないものの、徐々に人気を得ている魚です。\n",
      "\n",
      "他にも知りたい魚の種類があれば教えてください！\n",
      "ありがとうございました!\n"
     ]
    }
   ],
   "source": [
    "# グラフの実行と結果の表示\n",
    "def stream_graph_updates(user_input: str):\n",
    "    events = graph.stream(\n",
    "        {\"messages\": [user_input]},\n",
    "        {\"configurable\": {\"thread_id\": \"1\"}},\n",
    "        stream_mode=\"values\")\n",
    "    \n",
    "    # 結果をストリーミングで得る\n",
    "    for event in events:\n",
    "        print(event[\"messages\"][-1].content, flush=True)\n",
    "\n",
    "# チャットボットのループ\n",
    "while True:\n",
    "    user_input = input(\"質問:\")\n",
    "    if user_input.strip()==\"\":\n",
    "        print(\"ありがとうございました!\")\n",
    "        break\n",
    "    stream_graph_updates(user_input)"
   ]
  }
 ],
 "metadata": {
  "kernelspec": {
   "display_name": ".venv",
   "language": "python",
   "name": "python3"
  },
  "language_info": {
   "codemirror_mode": {
    "name": "ipython",
    "version": 3
   },
   "file_extension": ".py",
   "mimetype": "text/x-python",
   "name": "python",
   "nbconvert_exporter": "python",
   "pygments_lexer": "ipython3",
   "version": "3.13.3"
  }
 },
 "nbformat": 4,
 "nbformat_minor": 5
}
