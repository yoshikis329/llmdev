{
 "cells": [
  {
   "cell_type": "code",
   "execution_count": 4,
   "id": "e4bc3911",
   "metadata": {},
   "outputs": [],
   "source": [
    "# 必要なモジュールをインポート\n",
    "import os\n",
    "from dotenv import load_dotenv\n",
    "from langchain_openai import ChatOpenAI\n",
    "\n",
    "# 環境変数の読み込み\n",
    "load_dotenv(\"../.env\")\n",
    "os.environ[\"OPENAI_API_KEY\"] = os.getenv(\"API_KEY\")\n",
    "\n",
    "# モデル名\n",
    "MODEL_NAME = \"gpt-4o-mini\""
   ]
  },
  {
   "cell_type": "code",
   "execution_count": 6,
   "id": "3d963ce5",
   "metadata": {},
   "outputs": [],
   "source": [
    "from typing import Annotated\n",
    "from typing_extensions import TypedDict\n",
    "from langgraph.graph import StateGraph\n",
    "from langgraph.graph.message import add_messages\n",
    "\n",
    "# ステートの定義\n",
    "class State(TypedDict):\n",
    "    # データを保存する属性\n",
    "    messages: Annotated[list, add_messages]\n",
    "\n",
    "# ステートグラフの作成\n",
    "graph_builder = StateGraph(State)"
   ]
  },
  {
   "cell_type": "code",
   "execution_count": 7,
   "id": "5c188ddd",
   "metadata": {},
   "outputs": [],
   "source": [
    "# 言語モデルの定義\n",
    "llm = ChatOpenAI(model_name=MODEL_NAME)\n",
    "\n",
    "# チャットボットノードの作成\n",
    "def chatbot(state: State):\n",
    "    return {\"messages\": [llm.invoke(state[\"messages\"])]}\n",
    "\n",
    "# グラフにチャットボットノードを追加\n",
    "graph_builder.add_node(\"chatbot\", chatbot)\n",
    "\n",
    "# 開始ノードの指定\n",
    "graph_builder.set_entry_point(\"chatbot\")\n",
    "\n",
    "# 終了ノードの指定\n",
    "graph_builder.set_finish_point(\"chatbot\")\n",
    "\n",
    "# 実行可能なステートグラフの作成\n",
    "graph = graph_builder.compile()"
   ]
  },
  {
   "cell_type": "code",
   "execution_count": 9,
   "id": "565928c4",
   "metadata": {},
   "outputs": [
    {
     "data": {
      "image/png": "[encoded data removed]",
      "text/plain": [
       "<IPython.core.display.Image object>"
      ]
     },
     "metadata": {},
     "output_type": "display_data"
    }
   ],
   "source": [
    "from IPython.display import Image, display\n",
    "\n",
    "display(Image(graph.get_graph().draw_mermaid_png()))"
   ]
  },
  {
   "cell_type": "code",
   "execution_count": 10,
   "id": "78cee073",
   "metadata": {},
   "outputs": [
    {
     "name": "stdout",
     "output_type": "stream",
     "text": [
      "{'messages': [HumanMessage(content='user', additional_kwargs={}, response_metadata={}, id='5b52d5a5-0d78-40b7-8119-2bf5b6bb71b6'), HumanMessage(content='光の三原色は？', additional_kwargs={}, response_metadata={}, id='7f926bf9-c793-478c-9e6b-bcab8e8496a1'), AIMessage(content='光の三原色は、赤 (Red)、緑 (Green)、青 (Blue) の3色です。これらの色を組み合わせることで、さまざまな色を表現することができます。光の三原色は、加法混色の原理に基づいており、色の合成は光の強さを足し合わせることで行われます。', additional_kwargs={'refusal': None}, response_metadata={'token_usage': {'completion_tokens': 90, 'prompt_tokens': 19, 'total_tokens': 109, 'completion_tokens_details': {'accepted_prediction_tokens': 0, 'audio_tokens': 0, 'reasoning_tokens': 0, 'rejected_prediction_tokens': 0}, 'prompt_tokens_details': {'audio_tokens': 0, 'cached_tokens': 0}}, 'model_name': 'gpt-4o-mini-2024-07-18', 'system_fingerprint': 'fp_62a23a81ef', 'id': 'chatcmpl-BbQN3tXerE7mwobxQMEDNlTcXWOBT', 'service_tier': 'default', 'finish_reason': 'stop', 'logprobs': None}, id='run--0092ee2a-5d9b-4f16-b692-b3f3ce118865-0', usage_metadata={'input_tokens': 19, 'output_tokens': 90, 'total_tokens': 109, 'input_token_details': {'audio': 0, 'cache_read': 0}, 'output_token_details': {'audio': 0, 'reasoning': 0}})]}\n"
     ]
    }
   ],
   "source": [
    "# グラフの実行\n",
    "response = graph.invoke({\"messages\": [\"user\", \"光の三原色は？\"]})\n",
    "\n",
    "# 結果の表示\n",
    "print(response)"
   ]
  },
  {
   "cell_type": "code",
   "execution_count": 11,
   "id": "8560c8c8",
   "metadata": {},
   "outputs": [
    {
     "name": "stdout",
     "output_type": "stream",
     "text": [
      "光の三原色は、赤 (Red)、緑 (Green)、青 (Blue) の3色です。これらの色を組み合わせることで、さまざまな色を表現することができます。光の三原色は、加法混色の原理に基づいており、色の合成は光の強さを足し合わせることで行われます。\n"
     ]
    }
   ],
   "source": [
    "print(response[\"messages\"][-1].content)"
   ]
  },
  {
   "cell_type": "code",
   "execution_count": 12,
   "id": "7af69db2",
   "metadata": {},
   "outputs": [
    {
     "name": "stdout",
     "output_type": "stream",
     "text": [
      "質問: こんにちは！\n",
      "回答: こんにちは！どのようにお手伝いできますか？\n",
      "質問: 光の三原色は？\n",
      "回答: 光の三原色は、赤（Red）、緑（Green）、青（Blue）の3つです。これらの色を組み合わせることで、さまざまな色を表現することができます。例えば、赤と緑を混ぜると黄色が、緑と青を混ぜるとシアンが、赤と青を混ぜるとマゼンタが得られます。この原理は、ディスプレイや照明などの色の再現に利用されています。\n",
      "ありがとうございました!\n"
     ]
    }
   ],
   "source": [
    "# グラフの実行と結果の表示\n",
    "def stream_graph_updates(user_input: str):\n",
    "    # 結果をストリーミングで得る\n",
    "    events = graph.stream({\"messages\": [\"user\", user_input]})\n",
    "    for event in events:\n",
    "        for value in event.values():\n",
    "            print(\"回答:\", value[\"messages\"][-1].content, flush=True)\n",
    "\n",
    "# チャットボットのループ\n",
    "while True:\n",
    "    user_input = input(\"質問: \")\n",
    "    if user_input.strip()==\"\":\n",
    "        print(\"ありがとうございました!\")\n",
    "        break\n",
    "    print(\"質問:\", user_input, flush=True)\n",
    "    stream_graph_updates(user_input)"
   ]
  },
  {
   "cell_type": "code",
   "execution_count": 13,
   "id": "4395f4da",
   "metadata": {},
   "outputs": [],
   "source": [
    "from langgraph.checkpoint.memory import MemorySaver\n",
    "\n",
    "# チェックポインタの作成\n",
    "memory = MemorySaver()\n",
    "\n",
    "# 記憶を持つ実行可能なステートグラフの作成\n",
    "memory_graph = graph_builder.compile(checkpointer=memory)"
   ]
  },
  {
   "cell_type": "code",
   "execution_count": 15,
   "id": "7943d2c1",
   "metadata": {},
   "outputs": [
    {
     "name": "stdout",
     "output_type": "stream",
     "text": [
      "こんにちは！\n",
      "こんにちは！今日はどんなことをお話ししたいですか？\n",
      "aで始まる英単語を5つ教えて\n",
      "もちろんです！「a」で始まる英単語を5つ挙げますね。\n",
      "\n",
      "1. Apple（リンゴ）\n",
      "2. Amazing（驚くべき）\n",
      "3. Adventure（冒険）\n",
      "4. Artist（アーティスト）\n",
      "5. Ancient（古代の）\n",
      "\n",
      "他にも知りたい単語があれば教えてください！\n",
      "4つ目の英単語は何ですか？\n",
      "4つ目の英単語は「Artist」です。「アーティスト」という意味で、絵画、音楽、演劇などの分野で創作活動を行う人を指します。何か他に知りたいことがあれば教えてください！\n",
      "ありがとうございました!\n"
     ]
    }
   ],
   "source": [
    "# グラフの実行と結果の表示\n",
    "def stream_graph_updates(user_input: str):\n",
    "    events = memory_graph.stream(\n",
    "        {\"messages\": [\"user\", user_input]},\n",
    "        {\"configurable\": {\"thread_id\": \"1\"}},\n",
    "        stream_mode=\"values\")\n",
    "    # 結果をストリーミングで得る\n",
    "    for event in events:\n",
    "        print(event[\"messages\"][-1].content, flush=True)\n",
    "\n",
    "\n",
    "# チャットボットのループ\n",
    "while True:\n",
    "    user_input = input(\"質問: \")\n",
    "    if user_input.strip() == \"\":\n",
    "        print(\"ありがとうございました!\")\n",
    "        break\n",
    "    stream_graph_updates(user_input)"
   ]
  }
 ],
 "metadata": {
  "kernelspec": {
   "display_name": ".venv",
   "language": "python",
   "name": "python3"
  },
  "language_info": {
   "codemirror_mode": {
    "name": "ipython",
    "version": 3
   },
   "file_extension": ".py",
   "mimetype": "text/x-python",
   "name": "python",
   "nbconvert_exporter": "python",
   "pygments_lexer": "ipython3",
   "version": "3.13.3"
  }
 },
 "nbformat": 4,
 "nbformat_minor": 5
}
