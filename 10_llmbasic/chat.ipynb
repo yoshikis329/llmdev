{
 "cells": [
  {
   "cell_type": "code",
   "execution_count": null,
   "id": "313f1db9",
   "metadata": {},
   "outputs": [
    {
     "name": "stdout",
     "output_type": "stream",
     "text": [
      "ChatCompletion(id='chatcmpl-BVAGc10vTYglRPa9Zw2FymvQY5JJy', choices=[Choice(finish_reason='stop', index=0, logprobs=None, message=ChatCompletionMessage(content='言語モデルを使う上でのポイントはいくつかあります。以下に主な点を挙げます。\\n\\n1. **目的の明確化**: 言語モデルを利用する目的を明確にすることが重要です。例えば、テキスト生成、要約、翻訳、質問応答など、用途によってアプローチが変わります。\\n\\n2. **入力の質**: モデルに与える入力が重要です。具体的で明確なプロンプトを使用することで、期待する結果を得やすくなります。\\n\\n3. **グリーディなプロンプトの使用**: モデルを最大限に活用するためのプロンプトエンジニアリング技術を実践することが重要です。条件を追加したり、具体的なコンテキストを提供することで、より良い結果を引き出せます。\\n\\n4. **フィードバックと修正**: モデルから得た出力に対してフィードバックを行い、必要に応じてプロンプトを調整することが大切です。反復的なプロセスを通じて、結果を改善できます。\\n\\n5. **倫理的配慮**: 言語モデルは、生成するコンテンツが倫理的であるか、偏見がないか、誤情報を含んでいないかを考慮する必要があります。不適切な内容が出力されることを避けるための対策を講じましょう。\\n\\n6. **限界の理解**: 言語モデルには限界があります。事実に基づく情報や専門的な内容についての信頼性は必ずしも高くないため、重要な情報の場合は他のソースで確認することが必要です。\\n\\n7. **データプライバシー**: モデルに個人情報や機密情報を入力しないように注意しましょう。プライバシーの保護は大変重要です。\\n\\nこれらのポイントを考慮しながら、言語モデルを効果的に活用することができるでしょう。', refusal=None, role='assistant', annotations=[], audio=None, function_call=None, tool_calls=None))], created=1746767334, model='gpt-4o-mini-2024-07-18', object='chat.completion', service_tier='default', system_fingerprint='fp_129a36352a', usage=CompletionUsage(completion_tokens=479, prompt_tokens=18, total_tokens=497, completion_tokens_details=CompletionTokensDetails(accepted_prediction_tokens=0, audio_tokens=0, reasoning_tokens=0, rejected_prediction_tokens=0), prompt_tokens_details=PromptTokensDetails(audio_tokens=0, cached_tokens=0)))\n"
     ]
    }
   ],
   "source": [
    "import os\n",
    "from dotenv import load_dotenv\n",
    "from openai import OpenAI\n",
    "from pprint import pprint\n",
    "\n",
    "# 環境変数の取得\n",
    "load_dotenv(\"../.env\")\n",
    "\n",
    "# OpenAI APIクライアントを生成\n",
    "client = OpenAI(api_key=os.getenv(\"API_KEY\"))\n",
    "\n",
    "# モデル名\n",
    "MODEL_NAME = \"gpt-4o-mini\"\n",
    "\n",
    "# メッセージの設定\n",
    "message = \"言語モデルを使う上でのポイントは\"\n",
    "\n",
    "# APIへのリクエスト\n",
    "response = client.chat.completions.create(\n",
    "    model=MODEL_NAME,\n",
    "    messages=[\n",
    "        {\"role\": \"user\", \"content\": message}\n",
    "    ],\n",
    ")\n",
    "\n",
    "# レスポンスの表示\n",
    "pprint(vars(response))\n",
    "print(response.choices[0].message.content.strip())"
   ]
  },
  {
   "cell_type": "code",
   "execution_count": 4,
   "id": "48563f2a",
   "metadata": {},
   "outputs": [
    {
     "name": "stdout",
     "output_type": "stream",
     "text": [
      "新製品の発売に向けた効果的なマーケティング戦略として、以下のステップを考慮することが重要です。\n",
      "\n",
      "### 1. **市場分析**\n",
      "   - **ターゲット市場の特定**: 新製品がどの顧客層に向けたものであるかを分析します。年齢、性別、地域、興味などを考慮します。\n",
      "   - **競合分析**: 同様の製品を展開している競合他社を調査し、その戦略や弱点を把握します。\n",
      "\n",
      "### 2. **製品の差別化**\n",
      "   - **ユニークなセリングポイント（USP）**: 製品の特徴や利点を明確にし、他の競合製品とどのように異なるのかを説明します。ここで顧客にとっての価値を強調します。\n",
      "\n",
      "### 3. **マーケティングキャンペーンの設計**\n",
      "   - **ローンチイベント**: 新製品の発売に特化したイベントを開催し、メディアやインフルエンサーを招待して注目を集めます。\n",
      "   - **オンラインプレセンス**: SNS、ウェブサイト、メールマーケティングを活用し、ターゲット市場に対して製品の認知度を高めます。ティーザーキャンペーンを展開することで、期待感を醸成します。\n",
      "\n",
      "### 4. **コンテンツマーケティング**\n",
      "   - **ブログやビデオ**: 製品の使い方や利点を説明するためのコンテンツを作成します。ユーザーのエンゲージメントを高めるために、ストーリーテリングを活用します。\n",
      "   - **ユーザー生成コンテンツ**: 顧客が実際に製品を使用している様子をシェアするよう促すことで、信頼性とコミュニティを築きます。\n",
      "\n",
      "### 5. **販売戦略**\n",
      "   - **多チャネルアプローチ**: オンラインとオフラインの両方で販売チャネルを確保します。ECサイト、店舗、自社サイトなど、さまざまな場所で購入できるようにします。\n",
      "   - **プロモーション戦略**: 発売当初は割引、特典、バンドル販売などのプロモーションを行い、初期の販売を促進します。\n",
      "\n",
      "### 6. **フィードバックと適応**\n",
      "   - **顧客の声を反映**: 製品の発売後、顧客からのフィードバックを収集し、改善点や新しいニーズを分析します。これに基づいて、マーケティング戦略をプランしていくことが重要です。\n",
      "\n",
      "### 7. **KPIの設定と評価**\n",
      "   - **成果の評価**: 売上、顧客獲得、エンゲージメント指標など、状況に応じたKPIを設定し、マーケティング活動の効果を定期的に評価します。\n",
      "\n",
      "これらのステップを踏さえて、新製品の発売に向けた包括的かつ効果的なマーケティング戦略を立てることができます。計画を柔軟に運用し、必要に応じて修正を加えることも大切です。\n"
     ]
    }
   ],
   "source": [
    "# 役割や前提の設定\n",
    "role = \"あなたはマーケティング分野に精通したビジネスコンサルタントです。企業の成長をサポートするために、効果的なマーケティング戦略を提供します。\" \n",
    "\n",
    "# メッセージの設定\n",
    "message = \"新製品の発売に向けた効果的なマーケティング戦略を教えてください。\"\n",
    "\n",
    "# APIへのリクエスト\n",
    "response = client.chat.completions.create(\n",
    "    model=MODEL_NAME,\n",
    "    messages=[\n",
    "        {\"role\": \"system\", \"content\": role},\n",
    "        {\"role\": \"user\", \"content\": message}\n",
    "    ],\n",
    ")\n",
    "\n",
    "# 言語モデルからの回答を表示\n",
    "print(response.choices[0].message.content.strip())"
   ]
  },
  {
   "cell_type": "code",
   "execution_count": null,
   "id": "f0cc7bcd",
   "metadata": {},
   "outputs": [
    {
     "name": "stdout",
     "output_type": "stream",
     "text": [
      "--------------------\n",
      "もちろんです！日本は多様な文化、歴史、自然、美食などが魅力的な国です。以下にいくつかのポイントを紹介します。\n",
      "\n",
      "### 1. 文化と伝統\n",
      "- **祭り**: 日本各地で行われる伝統的な祭り（例：祇園祭、ねぶた祭り）は、色鮮やかで活気に満ちています。\n",
      "- **茶道**:\n",
      "--------------------\n",
      "もちろんです！日本は多様な文化、歴史、自然、美食などが魅力的な国です。以下にいくつかのポイントを紹介します。\n",
      "\n",
      "### 1. 文化と伝統\n",
      "- **祭り**: 日本各地で行われる伝統的な祭り（例：祇園祭、ねぶた祭り）は、色鮮やかで活気に満ちています。\n",
      "- **茶道**:\n",
      "--------------------\n",
      "もちろんです！日本は多様な文化、歴史、自然、美食などが魅力的な国です。以下にいくつかのポイントを紹介します。\n",
      "\n",
      "### 1. 文化と伝統\n",
      "- **祭り**: 日本各地で行われる伝統的な祭り（例：祇園祭、ねぶた祭り）は、色鮮やかで活気に満ちています。\n",
      "- **茶道**:\n"
     ]
    }
   ],
   "source": [
    "# 出力の多様性\n",
    "message = \"日本の魅力を紹介して！\"\n",
    "\n",
    "# APIへのリクエスト\n",
    "response = client.chat.completions.create(\n",
    "    model=MODEL_NAME,\n",
    "    messages=[\n",
    "        {\"role\": \"user\", \"content\": message}\n",
    "    ],\n",
    "    temperature=1.4,\n",
    "    n=3, # 3回答を得る\n",
    "    max_completion_tokens=100, # 出力トークン長を制限\n",
    ")\n",
    "\n",
    "# 結果を表示（複数回答を比較）\n",
    "for choice in response.choices:\n",
    "    print(\"-\" * 20)\n",
    "    print(choice.message.content.strip())"
   ]
  },
  {
   "cell_type": "code",
   "execution_count": null,
   "id": "2d956e35",
   "metadata": {},
   "outputs": [
    {
     "name": "stdout",
     "output_type": "stream",
     "text": [
      "--------------------\n",
      "日本は多様な魅力を持つ国で、歴史、文化、自然、食などさまざまな面で訪れる人々を惹きつけています。以下にいくつかのポイントを紹介します。\n",
      "\n",
      "### 1. 伝統と現代の融合\n",
      "日本の都市では、古い神社や寺院が近代的なビル群と共存している姿を見ることができます。例えば、東京\n",
      "--------------------\n",
      "もちろんです！日本の魅力は多岐にわたり、文化、自然、人々、技術など様々な側面があります。いくつかのポイントを挙げてみます。\n",
      "\n",
      "### 1. 文化と伝統\n",
      "- **和食**: 日本の料理は美しく、美味しく健康的です。寿司、天ぷら、ラーメンなど、多種多様な料理が楽しめます。\n",
      "- **祭\n",
      "--------------------\n",
      "もちろんです！日本の魅力は多岐にわたりますので、いくつかのポイントを挙げてみます。\n",
      "\n",
      "### 1. 自然美\n",
      "- **四季の変化**: 日本は春の桜、夏の海や山、秋の紅葉、冬の雪景色など、四季折々の美しさがあります。\n",
      "- **温泉地**: 日本各地には多くの温泉が\n"
     ]
    }
   ],
   "source": [
    "# 出力の多様性\n",
    "message = \"日本の魅力を紹介して！\"\n",
    "\n",
    "# APIへのリクエスト\n",
    "response = client.chat.completions.create(\n",
    "    model=MODEL_NAME,\n",
    "    messages=[\n",
    "        {\"role\": \"user\", \"content\": message}\n",
    "    ],\n",
    "    presence_penalty=-2.0,\n",
    "    n=3, # 3回答を得る\n",
    "    max_completion_tokens=100, # 出力トークン長を制限\n",
    ")\n",
    "\n",
    "# 結果を表示（複数回答を比較）\n",
    "for choice in response.choices:\n",
    "    print(\"-\" * 20)\n",
    "    print(choice.message.content.strip())"
   ]
  },
  {
   "cell_type": "code",
   "execution_count": 9,
   "id": "e1d0d312",
   "metadata": {},
   "outputs": [
    {
     "name": "stdout",
     "output_type": "stream",
     "text": [
      "tokens_count=2\n",
      "tokens=[95839, 3393]\n"
     ]
    }
   ],
   "source": [
    "import tiktoken\n",
    "from tiktoken.core import Encoding\n",
    "\n",
    "# OpenAI APIの特定のモデルに対応するトークナイザーを取得\n",
    "encoding: Encoding = tiktoken.encoding_for_model(MODEL_NAME) # o200k_base\n",
    "\n",
    "# テキストをトークンIDのリストに変換\n",
    "tokens = encoding.encode(\"こんにちは！\")\n",
    "tokens_count = len(tokens)\n",
    "\n",
    "# トークンの長さとトークンIDを表示\n",
    "print(f\"{tokens_count=}\")\n",
    "print(f\"{tokens=}\")"
   ]
  },
  {
   "cell_type": "code",
   "execution_count": 10,
   "id": "6a791886",
   "metadata": {},
   "outputs": [
    {
     "name": "stdout",
     "output_type": "stream",
     "text": [
      "--------------------\n",
      "B:こんにちは、Aさん！今日はどうしたの？\n",
      "--------------------\n",
      "B:こんにちは、Aさん！元気ですか？\n",
      "--------------------\n",
      "B:こんにちは、Aさん！最近どうですか？\n"
     ]
    }
   ],
   "source": [
    "# トークンの選択度合い\n",
    "message = \"\"\"\n",
    "AさんとBさんで会話してください。\n",
    "A:あ、Bさんだ。\n",
    "B:\n",
    "\"\"\"\n",
    "\n",
    "# APIへのリクエスト\n",
    "response = client.chat.completions.create(\n",
    "    model=MODEL_NAME,\n",
    "    messages=[\n",
    "        {\"role\": \"user\", \"content\": message}\n",
    "    ],\n",
    "    max_tokens=100,\n",
    "    n=3,\n",
    "    logit_bias={95839:8, 3398:8}\n",
    ")\n",
    "\n",
    "# 結果を表示\n",
    "for choice in response.choices:\n",
    "    print(\"-\" * 20)\n",
    "    print(choice.message.content.strip())"
   ]
  },
  {
   "cell_type": "code",
   "execution_count": 11,
   "id": "2a71ea42",
   "metadata": {},
   "outputs": [
    {
     "name": "stdout",
     "output_type": "stream",
     "text": [
      "言語モデルを使う上でのポイントはいくつかあります。以下にいくつかの重要な点を挙げます。\n",
      "\n",
      "1. **目的の明確化**: どのようなタスクに言語モデルを使うのかを明確にし、その目的に応じて適切なモデルを選択することが重要です。例えば、文章生成、翻訳、要約、質問応答など、用途に応じた設定が必要です。\n",
      "\n",
      "2. **入力の品質**: モデルに与える入力データの質が結果に大きく影響します。文法や構造が正しいか、必要な情報が含まれているかを確認しましょう。\n",
      "\n",
      "3. **プロンプト設計**: モデルに与えるプロンプト（指示文や質問）の設計が重要です。具体的で明確なプロンプトを用いることで、期待する結果を得やすくなります。\n",
      "\n",
      "4. **出力の検証**: モデルの出力が必ずしも正確であるとは限りません。特に重要な情報を得る場合は、結果を確認し、他の信頼できる情報源と照らし合わせることが必要です。\n",
      "\n",
      "5. **バイアスへの対応**: 言語モデルは訓練データに基づいて出力を生成するため、バイアスが含まれていることがあります。結果を受け入れる前に、そのバイアスについて考慮するべきです。\n",
      "\n",
      "6. **継続的な学習**: 言語モデルの特性や新しい技術について学び続けることが大切です。最新の研究や実践例を追うことで、モデルの使用方法を改善できます。\n",
      "\n",
      "7. **倫理的な配慮**: 言語モデルの出力が他者に与える影響について考慮し、倫理的に使用することが求められます。デジタルコンテンツの生成や情報発信に際しては特に注意が必要です。\n",
      "\n",
      "これらのポイントを考慮することで、言語モデルを効果的に活用することができます。"
     ]
    }
   ],
   "source": [
    "# メッセージの設定\n",
    "message = \"言語モデルを使ううえでのポイントは\"\n",
    "\n",
    "# APIへのリクエスト\n",
    "stream = client.chat.completions.create(\n",
    "    model=MODEL_NAME,\n",
    "    messages=[\n",
    "        {\"role\": \"user\", \"content\": message}\n",
    "    ],\n",
    "    stream=True,\n",
    ")\n",
    "\n",
    "for chunk in stream:\n",
    "    if chunk.choices:\n",
    "        if chunk.choices[0].delta.content is not None:\n",
    "            print(chunk.choices[0].delta.content, end=\"\")"
   ]
  }
 ],
 "metadata": {
  "kernelspec": {
   "display_name": ".venv",
   "language": "python",
   "name": "python3"
  },
  "language_info": {
   "codemirror_mode": {
    "name": "ipython",
    "version": 3
   },
   "file_extension": ".py",
   "mimetype": "text/x-python",
   "name": "python",
   "nbconvert_exporter": "python",
   "pygments_lexer": "ipython3",
   "version": "3.13.3"
  }
 },
 "nbformat": 4,
 "nbformat_minor": 5
}
