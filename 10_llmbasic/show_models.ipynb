{
 "cells": [
  {
   "cell_type": "code",
   "execution_count": 1,
   "id": "6b6cc028",
   "metadata": {},
   "outputs": [
    {
     "name": "stdout",
     "output_type": "stream",
     "text": [
      "dall-e-3\n",
      "dall-e-2\n",
      "gpt-4o-audio-preview-2024-10-01\n",
      "text-embedding-3-small\n",
      "babbage-002\n",
      "o1-mini-2024-09-12\n",
      "o1-mini\n",
      "text-embedding-ada-002\n",
      "gpt-4o-mini-audio-preview\n",
      "gpt-4o-audio-preview\n",
      "o1-preview-2024-09-12\n",
      "gpt-3.5-turbo-instruct-0914\n",
      "gpt-4o-mini-search-preview\n",
      "gpt-3.5-turbo-16k\n",
      "davinci-002\n",
      "gpt-3.5-turbo-1106\n",
      "gpt-4o-search-preview\n",
      "gpt-3.5-turbo-instruct\n",
      "gpt-3.5-turbo\n",
      "gpt-4o-mini-search-preview-2025-03-11\n",
      "gpt-4o-2024-11-20\n",
      "whisper-1\n",
      "gpt-4o-2024-05-13\n",
      "o1-preview\n",
      "text-embedding-3-large\n",
      "gpt-4o-mini-tts\n",
      "gpt-4o-transcribe\n",
      "gpt-4.5-preview\n",
      "gpt-4.5-preview-2025-02-27\n",
      "gpt-4o-search-preview-2025-03-11\n",
      "omni-moderation-2024-09-26\n",
      "gpt-image-1\n",
      "tts-1-hd\n",
      "gpt-4o\n",
      "tts-1-hd-1106\n",
      "gpt-4o-2024-08-06\n",
      "gpt-4o-mini-2024-07-18\n",
      "gpt-4.1-mini\n",
      "gpt-4o-mini\n",
      "gpt-4o-mini-audio-preview-2024-12-17\n",
      "gpt-3.5-turbo-0125\n",
      "tts-1\n",
      "tts-1-1106\n",
      "gpt-4o-mini-transcribe\n",
      "gpt-4.1-mini-2025-04-14\n",
      "gpt-4.1\n",
      "gpt-4.1-2025-04-14\n",
      "gpt-4.1-nano-2025-04-14\n",
      "omni-moderation-latest\n",
      "gpt-4.1-nano\n"
     ]
    }
   ],
   "source": [
    "import os\n",
    "from dotenv import load_dotenv\n",
    "from openai import OpenAI\n",
    "\n",
    "# 環境変数の取得\n",
    "load_dotenv(\"../.env\")\n",
    "\n",
    "# OpenAI APIクライアントを生成\n",
    "client = OpenAI(api_key=os.getenv(\"API_KEY\"))\n",
    "\n",
    "# モデルの一覧を取得\n",
    "models = client.models.list()\n",
    "\n",
    "# モデルの一覧を表示\n",
    "for model in models:\n",
    "    print(model.id)"
   ]
  }
 ],
 "metadata": {
  "kernelspec": {
   "display_name": ".venv",
   "language": "python",
   "name": "python3"
  },
  "language_info": {
   "codemirror_mode": {
    "name": "ipython",
    "version": 3
   },
   "file_extension": ".py",
   "mimetype": "text/x-python",
   "name": "python",
   "nbconvert_exporter": "python",
   "pygments_lexer": "ipython3",
   "version": "3.13.3"
  }
 },
 "nbformat": 4,
 "nbformat_minor": 5
}
