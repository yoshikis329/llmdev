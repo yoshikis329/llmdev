{
 "cells": [
  {
   "cell_type": "code",
   "execution_count": null,
   "id": "fe947a8a",
   "metadata": {},
   "outputs": [],
   "source": [
    "import os\n",
    "from dotenv import load_dotenv\n",
    "from openai import OpenAI\n",
    "\n",
    "# 環境変数の取得\n",
    "load_dotenv(\"../.env\")\n",
    "\n",
    "# OpenAI APIクライアントを生成\n",
    "client = OpenAI(api_key=os.getenv(\"API_KEY\"))\n",
    "\n",
    "# モデル名\n",
    "MODEL_NAME = \"gpt-4o-mini\""
   ]
  },
  {
   "cell_type": "code",
   "execution_count": 3,
   "id": "dc039fff",
   "metadata": {},
   "outputs": [
    {
     "data": {
      "text/plain": [
       "'質問:こんにちは！'"
      ]
     },
     "metadata": {},
     "output_type": "display_data"
    },
    {
     "name": "stdout",
     "output_type": "stream",
     "text": [
      "こんにちは！何かお手伝いできることがありますか？"
     ]
    },
    {
     "data": {
      "text/plain": [
       "'質問:初心者におすすめのプログラミング言語を３つ教えて'"
      ]
     },
     "metadata": {},
     "output_type": "display_data"
    },
    {
     "name": "stdout",
     "output_type": "stream",
     "text": [
      "初心者におすすめのプログラミング言語を3つ紹介します：\n",
      "\n",
      "1. **Python**:\n",
      "   - シンプルで読みやすい文法が特徴で、初心者に非常に人気があります。\n",
      "   - データ分析、ウェブ開発、機械学習など、さまざまな分野で使われています。\n",
      "   - 多くのライブラリやフレームワークがあり、学んだことをすぐに応用しやすいです。\n",
      "\n",
      "2. **JavaScript**:\n",
      "   - ウェブ開発の基礎となる言語で、ブラウザ上で動作します。\n",
      "   - インタラクティブなウェブサイトや、フロントエンドとバックエンド両方の開発に使用されます。\n",
      "   - 直感的な文法と豊富なリソースがあり、初心者でも学びやすいです。\n",
      "\n",
      "3. **Ruby**:\n",
      "   - 読みやすい文法で、特にウェブアプリケーションの開発に強みを持つRuby on Railsというフレームワークがあります。\n",
      "   - コードがシンプルで、楽しくプログラミングを学べる環境を提供します。\n",
      "   - コミュニティも活発で、学ぶためのリソースが豊富です。\n",
      "\n",
      "これらの言語は、それぞれ異なる用途や特徴があるため、自分の興味や目標に合った言語を選ぶと良いでしょう。"
     ]
    },
    {
     "data": {
      "text/plain": [
       "'質問:1つ目のプログラミング言語の名前は？'"
      ]
     },
     "metadata": {},
     "output_type": "display_data"
    },
    {
     "name": "stdout",
     "output_type": "stream",
     "text": [
      "1つ目のプログラミング言語は「Python」です。Pythonは初心者に非常に人気があり、読みやすい文法と豊富なライブラリが特徴です。データ分析やウェブ開発、機械学習など、幅広い分野で活用されています。\n",
      "---ご利用ありがとうございました！---\n"
     ]
    }
   ],
   "source": [
    "# メッセージを格納するリスト\n",
    "messages = []\n",
    "\n",
    "while(True):\n",
    "    # ユーザからの質問を受付\n",
    "    message = input(\"メッセージを入力: \")\n",
    "    # 質問が入力されなければ終了\n",
    "    if message == \"\":\n",
    "        break\n",
    "    display(f\"質問:{message}\")\n",
    "\n",
    "    # メッセージにユーザーからの質問を追加\n",
    "    messages.append({\"role\": \"user\", \"content\": message.strip()})\n",
    "    # やりとりが8を超えたら古いメッセージから削除\n",
    "    if len(messages) > 8:\n",
    "        del_message = messages.pop(0)\n",
    "\n",
    "    # APIへリクエスト\n",
    "    stream = client.chat.completions.create(\n",
    "        model=MODEL_NAME,\n",
    "        messages=messages,\n",
    "        stream=True\n",
    "    )\n",
    "\n",
    "    # 言語モデルからの回答を表示\n",
    "    response_messsage = \"\"\n",
    "    for chunk in stream:\n",
    "        if chunk.choices:\n",
    "            next = chunk.choices[0].delta.content\n",
    "            if next is not None:\n",
    "                response_messsage += next\n",
    "                print(next, end=\"\", flush=True)\n",
    "    \n",
    "    # メッセージに言語モデルからの回答を追加\n",
    "    messages.append({\"role\": \"assistant\", \"content\": response_messsage.strip()})\n",
    "\n",
    "print(\"\\n---ご利用ありがとうございました！---\")"
   ]
  }
 ],
 "metadata": {
  "kernelspec": {
   "display_name": ".venv",
   "language": "python",
   "name": "python3"
  },
  "language_info": {
   "codemirror_mode": {
    "name": "ipython",
    "version": 3
   },
   "file_extension": ".py",
   "mimetype": "text/x-python",
   "name": "python",
   "nbconvert_exporter": "python",
   "pygments_lexer": "ipython3",
   "version": "3.13.3"
  }
 },
 "nbformat": 4,
 "nbformat_minor": 5
}
