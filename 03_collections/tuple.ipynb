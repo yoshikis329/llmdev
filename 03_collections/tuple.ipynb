{
 "cells": [
  {
   "cell_type": "code",
   "execution_count": null,
   "id": "baa44221",
   "metadata": {},
   "outputs": [
    {
     "name": "stdout",
     "output_type": "stream",
     "text": [
      "(1, 2, 3, 4, 5)\n",
      "('apple', 'banana', 'cherry')\n",
      "(1, 'apple', 3.14, True)\n",
      "()\n",
      "(1,)\n"
     ]
    }
   ],
   "source": [
    "numbers = (1, 2, 3, 4, 5)\n",
    "print(numbers) # (1, 2, 3, 4, 5)\n",
    "\n",
    "# 文字列を格納したタプル\n",
    "fruits = ('apple', 'banana', 'cherry')\n",
    "print(fruits) # ('apple', 'banana', 'cherry')\n",
    "\n",
    "# 異なるデータ型を混在させたタプル\n",
    "mixed = (1, 'apple', 3.14, True)\n",
    "print(mixed) # (1, 'apple', 3.14, True)\n",
    "\n",
    "# 空のタプル\n",
    "empty_tuple = ()\n",
    "print(empty_tuple) # ()\n",
    "\n",
    "# 要素が1つだけのタプル\n",
    "one_element_tuple = (1,)\n",
    "print(one_element_tuple) # (1, )"
   ]
  },
  {
   "cell_type": "code",
   "execution_count": 2,
   "id": "5c7da521",
   "metadata": {},
   "outputs": [
    {
     "name": "stdout",
     "output_type": "stream",
     "text": [
      "(None, None, None, None, None)\n",
      "(0, 0, 0, 0, 0, 0, 0, 0, 0, 0)\n"
     ]
    }
   ],
   "source": [
    "none_tuple = (None,) * 5\n",
    "print(none_tuple) # (None, None, None, None, None)\n",
    "\n",
    "# 特定の値で初期化されたタプル\n",
    "zeros = (0,) * 10\n",
    "print(zeros) # (0, 0, 0, 0, 0, 0, 0, 0, 0, 0)"
   ]
  },
  {
   "cell_type": "code",
   "execution_count": 3,
   "id": "e5c9e45e",
   "metadata": {},
   "outputs": [
    {
     "name": "stdout",
     "output_type": "stream",
     "text": [
      "(1, 2, 3)\n",
      "(4, 5, 6)\n"
     ]
    }
   ],
   "source": [
    "# 元のリスト\n",
    "original_list = [1, 2, 3]\n",
    "\n",
    "# listをタプルに変換\n",
    "copied_tuple = tuple(original_list)\n",
    "print(copied_tuple) # (1, 2, 3)\n",
    "\n",
    "# タプル自体を新しいタプルにコピーする\n",
    "original_tuple = (4, 5, 6)\n",
    "copied_tuple2 = tuple(original_tuple)\n",
    "print(copied_tuple2) # (4, 5, 6)"
   ]
  },
  {
   "cell_type": "code",
   "execution_count": 4,
   "id": "6a5bd2f6",
   "metadata": {},
   "outputs": [
    {
     "name": "stdout",
     "output_type": "stream",
     "text": [
      "apple\n",
      "cherry\n"
     ]
    }
   ],
   "source": [
    "fruits = ('apple', 'banana', 'cherry')\n",
    "\n",
    "# インデックス0（最初の要素）にアクセス\n",
    "print(fruits[0]) # apple\n",
    "\n",
    "# インデックス-1（最後の要素）にアクセス\n",
    "print(fruits[-1]) # cherry"
   ]
  },
  {
   "cell_type": "code",
   "execution_count": 5,
   "id": "8fa5e726",
   "metadata": {},
   "outputs": [
    {
     "name": "stdout",
     "output_type": "stream",
     "text": [
      "(1, 2)\n",
      "(0, 1, 2)\n",
      "(2, 3, 4, 5)\n",
      "(5, 4, 3, 2, 1, 0)\n"
     ]
    }
   ],
   "source": [
    "numbers = (0, 1, 2, 3, 4, 5)\n",
    "\n",
    "# インデックス1から3までの要素を取得（3は含まない）\n",
    "print(numbers[1:3]) # (1, 2)\n",
    "\n",
    "# 最初からインデックス3まで（3は含まない）\n",
    "print(numbers[:3]) # (0, 1, 2)\n",
    "\n",
    "# インデックス2から最後まで\n",
    "print(numbers[2:]) # (2, 3, 4, 5)\n",
    "\n",
    "# 全要素を逆順に\n",
    "print(numbers[::-1]) # (5, 4, 3, 2, 1, 0)"
   ]
  },
  {
   "cell_type": "code",
   "execution_count": 6,
   "id": "abbca01a",
   "metadata": {},
   "outputs": [
    {
     "name": "stdout",
     "output_type": "stream",
     "text": [
      "True\n",
      "2\n"
     ]
    }
   ],
   "source": [
    "fruits = ('apple', 'banana', 'cherry')\n",
    "\n",
    "# 要素がタプルに含まれているか確認\n",
    "print('banana' in fruits) # True\n",
    "\n",
    "# 指定要素のインデックスを取得\n",
    "print(fruits.index('cherry')) # 2"
   ]
  },
  {
   "cell_type": "code",
   "execution_count": 7,
   "id": "e5a91c4e",
   "metadata": {},
   "outputs": [
    {
     "name": "stdout",
     "output_type": "stream",
     "text": [
      "3\n"
     ]
    }
   ],
   "source": [
    "numbers = (1, 2, 3, 2, 4, 2, 5)\n",
    "\n",
    "# 2がタプルに何回登場するか\n",
    "print(numbers.count(2)) # 3"
   ]
  },
  {
   "cell_type": "code",
   "execution_count": 8,
   "id": "3638f85d",
   "metadata": {},
   "outputs": [
    {
     "name": "stdout",
     "output_type": "stream",
     "text": [
      "(1, 2, 3, 4, 5, 6)\n"
     ]
    }
   ],
   "source": [
    "tuple1 = (1, 2, 3)\n",
    "tuple2 = (4, 5, 6)\n",
    "\n",
    "# + 演算子を使ってタプルを結合\n",
    "combined_tuple = tuple1 + tuple2\n",
    "print(combined_tuple) # (1, 2, 3, 4, 5, 6)"
   ]
  }
 ],
 "metadata": {
  "kernelspec": {
   "display_name": ".venv",
   "language": "python",
   "name": "python3"
  },
  "language_info": {
   "codemirror_mode": {
    "name": "ipython",
    "version": 3
   },
   "file_extension": ".py",
   "mimetype": "text/x-python",
   "name": "python",
   "nbconvert_exporter": "python",
   "pygments_lexer": "ipython3",
   "version": "3.13.3"
  }
 },
 "nbformat": 4,
 "nbformat_minor": 5
}
