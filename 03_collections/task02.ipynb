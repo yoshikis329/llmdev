{
 "cells": [
  {
   "cell_type": "code",
   "execution_count": 3,
   "id": "152ece78",
   "metadata": {},
   "outputs": [
    {
     "name": "stdout",
     "output_type": "stream",
     "text": [
      "['bear', 'cat', 'dog', 'giraffe', 'horse', 'kangaroo']\n",
      "aが5個ありました\n",
      "bが1個ありました\n",
      "cが1個ありました\n",
      "dが1個ありました\n",
      "eが3個ありました\n",
      "fが2個ありました\n",
      "gが3個ありました\n",
      "hが1個ありました\n",
      "iが1個ありました\n",
      "kが1個ありました\n",
      "nが1個ありました\n",
      "oが4個ありました\n",
      "rが4個ありました\n",
      "sが1個ありました\n",
      "tが1個ありました\n"
     ]
    }
   ],
   "source": [
    "word_list = list()\n",
    "\n",
    "alphabet = 'abcdefghijklmnopqrstuvwxyz'\n",
    "alphabet_dict_list = dict.fromkeys(list(alphabet), 0)\n",
    "\n",
    "while True:\n",
    "    word = input('英単語を入力してください：').lower()\n",
    "    if word == '':\n",
    "        break\n",
    "    word_list.append(word)\n",
    "    for char in word:\n",
    "        alphabet_dict_list[char] += 1\n",
    "\n",
    "word_list.sort()\n",
    "print(word_list)\n",
    "\n",
    "for alphabet_tuple in alphabet_dict_list.items():\n",
    "    if alphabet_tuple[1] != 0:\n",
    "        print(f\"{alphabet_tuple[0]}が{alphabet_tuple[1]}個ありました\")"
   ]
  },
  {
   "cell_type": "code",
   "execution_count": null,
   "id": "e4d5254a",
   "metadata": {},
   "outputs": [],
   "source": []
  }
 ],
 "metadata": {
  "kernelspec": {
   "display_name": ".venv",
   "language": "python",
   "name": "python3"
  },
  "language_info": {
   "codemirror_mode": {
    "name": "ipython",
    "version": 3
   },
   "file_extension": ".py",
   "mimetype": "text/x-python",
   "name": "python",
   "nbconvert_exporter": "python",
   "pygments_lexer": "ipython3",
   "version": "3.13.3"
  }
 },
 "nbformat": 4,
 "nbformat_minor": 5
}
