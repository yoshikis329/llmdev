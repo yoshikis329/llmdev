{
 "cells": [
  {
   "cell_type": "code",
   "execution_count": 1,
   "id": "5e8e6388",
   "metadata": {},
   "outputs": [
    {
     "name": "stdout",
     "output_type": "stream",
     "text": [
      "a\n",
      "b\n",
      "z\n",
      "z\n",
      "x\n",
      "a\n"
     ]
    }
   ],
   "source": [
    "s = \"abcdefghijklmnopqrstuvwxyz\"\n",
    "\n",
    "# 前から\n",
    "print(s[0]) #a\n",
    "print(s[1]) #b\n",
    "print(s[25]) #z\n",
    "\n",
    "# 後から\n",
    "print(s[-1]) #z\n",
    "print(s[-3]) #x\n",
    "print(s[-26]) #a"
   ]
  },
  {
   "cell_type": "code",
   "execution_count": 2,
   "id": "8d8bafbe",
   "metadata": {},
   "outputs": [
    {
     "ename": "IndexError",
     "evalue": "string index out of range",
     "output_type": "error",
     "traceback": [
      "\u001b[31m---------------------------------------------------------------------------\u001b[39m",
      "\u001b[31mIndexError\u001b[39m                                Traceback (most recent call last)",
      "\u001b[36mCell\u001b[39m\u001b[36m \u001b[39m\u001b[32mIn[2]\u001b[39m\u001b[32m, line 2\u001b[39m\n\u001b[32m      1\u001b[39m \u001b[38;5;66;03m# 以下のコードはエラーとなる\u001b[39;00m\n\u001b[32m----> \u001b[39m\u001b[32m2\u001b[39m \u001b[38;5;28mprint\u001b[39m(\u001b[43ms\u001b[49m\u001b[43m[\u001b[49m\u001b[32;43m26\u001b[39;49m\u001b[43m]\u001b[49m)\n\u001b[32m      3\u001b[39m \u001b[38;5;28mprint\u001b[39m(s[-\u001b[32m27\u001b[39m])\n",
      "\u001b[31mIndexError\u001b[39m: string index out of range"
     ]
    }
   ],
   "source": [
    "# 以下のコードはエラーとなる\n",
    "print(s[26])\n",
    "print(s[-27])"
   ]
  },
  {
   "cell_type": "code",
   "execution_count": null,
   "id": "56daa854",
   "metadata": {},
   "outputs": [
    {
     "name": "stdout",
     "output_type": "stream",
     "text": [
      "abcdefg\n",
      "vwxyz\n",
      "vwxyz\n"
     ]
    }
   ],
   "source": [
    "s = \"abcdefghijklmnopqrstuvwxyz\"\n",
    "\n",
    "# 前から\n",
    "print(s[0:7])\n",
    "print(s[21:26])\n",
    "\n",
    "# 後から\n",
    "print(s[-5:-1])"
   ]
  },
  {
   "cell_type": "code",
   "execution_count": 11,
   "id": "4f20fca6",
   "metadata": {},
   "outputs": [
    {
     "name": "stdout",
     "output_type": "stream",
     "text": [
      "abcdefghij\n",
      "klmnopqrstuvwxyz\n",
      "abcdefghijklmnopqrstuvwxyz\n"
     ]
    }
   ],
   "source": [
    "s = \"abcdefghijklmnopqrstuvwxyz\"\n",
    "\n",
    "print(s[:10]) # 開始位置を省略\n",
    "print(s[10:]) # 終了位置を省略\n",
    "print(s[:])   # 両方省略"
   ]
  },
  {
   "cell_type": "code",
   "execution_count": 16,
   "id": "a0c014cc",
   "metadata": {},
   "outputs": [
    {
     "name": "stdout",
     "output_type": "stream",
     "text": [
      "acegi\n",
      "behknqt\n",
      "zxvtr\n"
     ]
    }
   ],
   "source": [
    "s = \"abcdefghijklmnopqrstuvwxyz\"\n",
    "\n",
    "print(s[0:10:2]) # 2個おき\n",
    "print(s[1:20:3]) # 3個おき\n",
    "print(s[-1:-10:-2])"
   ]
  },
  {
   "cell_type": "code",
   "execution_count": 17,
   "id": "99b79203",
   "metadata": {},
   "outputs": [
    {
     "name": "stdout",
     "output_type": "stream",
     "text": [
      "「にんてんどううどんてんに」は回文です！\n",
      "「Pythonは便利だが遅い」は回文ではないです。\n",
      "「no devil lived on」は回文です！\n"
     ]
    }
   ],
   "source": [
    "s = \"にんてんどううどんてんに\"\n",
    "if s == s[::-1]: # 元の値とひっくり返した値が同値である\n",
    "    print(f\"「{s}」は回文です！\")\n",
    "else:\n",
    "    print(f\"「{s}」は回文ではありません。\")\n",
    "\n",
    "s = \"Pythonは便利だが遅い\"\n",
    "if s == s[::-1]:\n",
    "    print(f\"「{s}」は回文です！\")\n",
    "else:\n",
    "    print(f\"「{s}」は回文ではないです。\")\n",
    "\n",
    "s = \"no devil lived on\"\n",
    "if s == s[::-1]:\n",
    "    print(f\"「{s}」は回文です！\")\n",
    "else:\n",
    "    print(f\"「{s}」は回文ではないです。\")"
   ]
  },
  {
   "cell_type": "code",
   "execution_count": 18,
   "id": "4bef52f9",
   "metadata": {},
   "outputs": [
    {
     "name": "stdout",
     "output_type": "stream",
     "text": [
      "T\n",
      "e\n",
      "c\n",
      "h\n",
      "A\n",
      "c\n",
      "a\n",
      "d\n",
      "e\n",
      "m\n",
      "y\n"
     ]
    }
   ],
   "source": [
    "s = \"TechAcademy\"\n",
    "for char in s:\n",
    "    print(char)"
   ]
  },
  {
   "cell_type": "code",
   "execution_count": 19,
   "id": "3be09907",
   "metadata": {},
   "outputs": [
    {
     "name": "stdout",
     "output_type": "stream",
     "text": [
      "T\n",
      "E\n",
      "C\n",
      "H\n",
      "A\n",
      "C\n",
      "A\n",
      "D\n",
      "E\n",
      "M\n",
      "Y\n"
     ]
    }
   ],
   "source": [
    "s = \"TechAcademy\"\n",
    "for char in s:\n",
    "    print(char.upper()) # 各文字を大文字に変換して出力"
   ]
  },
  {
   "cell_type": "code",
   "execution_count": 20,
   "id": "f68a1f46",
   "metadata": {},
   "outputs": [
    {
     "name": "stdout",
     "output_type": "stream",
     "text": [
      "e\n",
      "A\n",
      "a\n",
      "e\n"
     ]
    }
   ],
   "source": [
    "s = \"TechAcademy\"\n",
    "vowels = \"aeiouAEIOU\"  # 母音のリスト\n",
    "for char in s:\n",
    "    if char in vowels:\n",
    "        print(char)"
   ]
  },
  {
   "cell_type": "code",
   "execution_count": 21,
   "id": "ee4e236d",
   "metadata": {},
   "outputs": [
    {
     "name": "stdout",
     "output_type": "stream",
     "text": [
      "文字列の長さ: 11\n"
     ]
    }
   ],
   "source": [
    "s = \"TechAcademy\"\n",
    "length = len(s)\n",
    "print(f\"文字列の長さ: {length}\")"
   ]
  },
  {
   "cell_type": "code",
   "execution_count": 22,
   "id": "cc09a788",
   "metadata": {},
   "outputs": [
    {
     "name": "stdout",
     "output_type": "stream",
     "text": [
      "10文字を超える長い文字列です。\n"
     ]
    }
   ],
   "source": [
    "s = \"Hello, world!\"\n",
    "if len(s) > 10:\n",
    "    print(\"10文字を超える長い文字列です。\")\n",
    "else:\n",
    "    print(\"10文字以内の短い文字列です。\")"
   ]
  },
  {
   "cell_type": "code",
   "execution_count": 23,
   "id": "9dbbcce6",
   "metadata": {},
   "outputs": [
    {
     "name": "stdout",
     "output_type": "stream",
     "text": [
      "文字列は空です。\n"
     ]
    }
   ],
   "source": [
    "s = \"\"\n",
    "if len(s) == 0:\n",
    "    print(\"文字列は空です。\")\n",
    "else:\n",
    "    print(\"文字列は空ではありません。\")"
   ]
  }
 ],
 "metadata": {
  "kernelspec": {
   "display_name": ".venv",
   "language": "python",
   "name": "python3"
  },
  "language_info": {
   "codemirror_mode": {
    "name": "ipython",
    "version": 3
   },
   "file_extension": ".py",
   "mimetype": "text/x-python",
   "name": "python",
   "nbconvert_exporter": "python",
   "pygments_lexer": "ipython3",
   "version": "3.13.3"
  }
 },
 "nbformat": 4,
 "nbformat_minor": 5
}
