{
 "cells": [
  {
   "cell_type": "code",
   "execution_count": null,
   "id": "f5e46998",
   "metadata": {},
   "outputs": [
    {
     "name": "stdout",
     "output_type": "stream",
     "text": [
      "平均点:  80.0\n",
      "最高点:  90\n",
      "最低点:  70\n",
      "平均以上の学生数:  3\n"
     ]
    }
   ],
   "source": [
    "grades = [85, 90, 78, 92, 88]\n",
    "mean = sum(grades) / len(grades)\n",
    "print(\"平均点: \", mean)\n",
    "print(\"最高点: \", max(grades))\n",
    "print(\"最低点: \", min(grades))\n",
    "print(\"平均以上の学生数: \",len([grade for grade in grades if grade >= mean]))"
   ]
  }
 ],
 "metadata": {
  "kernelspec": {
   "display_name": ".venv",
   "language": "python",
   "name": "python3"
  },
  "language_info": {
   "codemirror_mode": {
    "name": "ipython",
    "version": 3
   },
   "file_extension": ".py",
   "mimetype": "text/x-python",
   "name": "python",
   "nbconvert_exporter": "python",
   "pygments_lexer": "ipython3",
   "version": "3.13.3"
  }
 },
 "nbformat": 4,
 "nbformat_minor": 5
}
